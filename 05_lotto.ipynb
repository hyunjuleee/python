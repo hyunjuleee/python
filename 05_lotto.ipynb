{
 "cells": [
  {
   "cell_type": "code",
   "execution_count": 76,
   "id": "e7013f9d-3546-4594-98ce-16e86a647069",
   "metadata": {},
   "outputs": [
    {
     "name": "stdout",
     "output_type": "stream",
     "text": [
      "4\n",
      "5\n",
      "9\n",
      "11\n",
      "37\n",
      "40\n",
      "7\n",
      "[4, 5, 9, 11, 37, 40]\n",
      "[7]\n"
     ]
    }
   ],
   "source": [
    "import requests\n",
    "\n",
    "payload = {\n",
    "    'method': 'getLottoNumber',\n",
    "    'drwNo': 1126,\n",
    "}\n",
    "r = requests.get('https://www.dhlottery.co.kr/common.do', params=payload)\n",
    "\n",
    "lotto_dict = r.json()\n",
    "print(lotto_dict['drwtNo1'])\n",
    "print(lotto_dict['drwtNo2'])\n",
    "print(lotto_dict['drwtNo3'])\n",
    "print(lotto_dict['drwtNo4'])\n",
    "print(lotto_dict['drwtNo5'])\n",
    "print(lotto_dict['drwtNo6'])\n",
    "print(lotto_dict['bnusNo'])\n",
    "\n",
    "lucky = []\n",
    "\n",
    "for i in range(1, 7):\n",
    "    lucky.append(lotto_dict[f'drwtNo{i}'])\n",
    "\n",
    "print(lucky)\n",
    "\n",
    "bonus = [lotto_dict['bnusNo']]\n",
    "\n",
    "print(bonus)"
   ]
  },
  {
   "cell_type": "code",
   "execution_count": 23,
   "id": "18d00523-f365-4e8a-a918-f5bc517e4c84",
   "metadata": {},
   "outputs": [
    {
     "data": {
      "text/plain": [
       "[30, 24, 8, 33, 25, 33]"
      ]
     },
     "execution_count": 23,
     "metadata": {},
     "output_type": "execute_result"
    }
   ],
   "source": [
    "import random\n",
    "\n",
    "x = random.randint(1, 45)\n",
    "\n",
    "result = []\n",
    "\n",
    "def buy_lotto():\n",
    "    for i in range(6):\n",
    "        result.append(random.randint(1,45))\n",
    "    return result\n",
    "\n",
    "buy_lotto()"
   ]
  },
  {
   "cell_type": "code",
   "execution_count": 26,
   "id": "6d83bd59-86fa-4125-b9f5-3695ac106f3f",
   "metadata": {},
   "outputs": [
    {
     "data": {
      "text/plain": [
       "[45, 40, 41, 43, 38, 23]"
      ]
     },
     "execution_count": 26,
     "metadata": {},
     "output_type": "execute_result"
    }
   ],
   "source": [
    "numbers = list(range(1,46))\n",
    "\n",
    "random.sample(numbers, 6)"
   ]
  },
  {
   "cell_type": "code",
   "execution_count": 42,
   "id": "91edb1e2-b527-4f71-82d2-7dcb89ac964a",
   "metadata": {},
   "outputs": [
    {
     "name": "stdout",
     "output_type": "stream",
     "text": [
      "{'1회차': [7, 24, 21, 8, 32, 36], '2회차': [26, 34, 3, 28, 11, 42], '3회차': [16, 21, 15, 38, 20, 10], '4회차': [43, 24, 4, 19, 26, 21], '5회차': [23, 31, 42, 16, 17, 43]}\n"
     ]
    }
   ],
   "source": [
    "d = {}\n",
    "for i in range(1, 6):\n",
    "    d[f'{i}회차'] = random.sample(numbers, 6)\n",
    "\n",
    "print(d)"
   ]
  },
  {
   "cell_type": "code",
   "execution_count": 47,
   "id": "71998e2f-d559-42f8-8512-09eaf0d9eb16",
   "metadata": {},
   "outputs": [],
   "source": [
    "def countman(x, y):\n",
    "    num = 0\n",
    "    for i in x:\n",
    "        if i in y:\n",
    "            num += 1\n",
    "    return num\n",
    "\n",
    "\n",
    "def buy(x, y, z):\n",
    "    # x는 [7, 24 ...]: 산거 Y는 [30, 24] ... 보너스: 당첨번호\n",
    "    if countman(x, y) == 6:\n",
    "        return '1등입니다.'\n",
    "    elif count(x, y) == 5 and z in x:\n",
    "        return '2등입니다.'\n",
    "    elif count(x, y) == 5:\n",
    "        return '3등입니다.'\n",
    "    elif count(x, y) == 4:\n",
    "        return '4등입니다.'\n",
    "    elif count(x, y) == 3:\n",
    "        return '5등입니다.'\n",
    "\n",
    "\n"
   ]
  },
  {
   "cell_type": "code",
   "execution_count": 75,
   "id": "7b43c816-9b12-4467-8266-590b26209c02",
   "metadata": {},
   "outputs": [
    {
     "name": "stdout",
     "output_type": "stream",
     "text": [
      "이번주 당첨번호 : [4, 5, 9, 11, 37, 40], BN: [7]\n",
      "{'1회차': [21, 8, 9, 35, 30, 6], '2회차': [20, 29, 9, 36, 1, 11], '3회차': [12, 26, 6, 27, 30, 21], '4회차': [26, 29, 42, 9, 38, 8], '5회차': [29, 40, 14, 1, 32, 45]}\n",
      "꽝\n",
      "꽝\n",
      "꽝\n",
      "꽝\n",
      "꽝\n"
     ]
    }
   ],
   "source": [
    "lucky = []\n",
    "for i in range(1, 7):\n",
    "    lucky.append(lotto_dict[f'drwtNo{i}'])\n",
    "\n",
    "bonus = [lotto_dict['bnusNo']]\n",
    "\n",
    "print(f'이번주 당첨번호 : {lucky}, BN: {bonus}')\n",
    "#\n",
    "d = { }\n",
    "for i in range(1, 6):\n",
    "    d[f'{i}회차'] = random.sample(numbers, 6)\n",
    "\n",
    "print(d)\n",
    "\n",
    "def countman(x, y):\n",
    "    num = 0\n",
    "    for i in x:\n",
    "        if i in y:\n",
    "            num += 1\n",
    "    return num\n",
    "\n",
    "\n",
    "def buy(x, y, z):\n",
    "    # x는 [7, 24 ...]: 산거 Y는 [30, 24] ... 보너스: 당첨번호\n",
    "    if countman(x, y) == 6:\n",
    "        return '1등입니다.'\n",
    "    elif countman(x, y) == 5 and z in x:\n",
    "        return '2등입니다.'\n",
    "    elif countman(x, y) == 5:\n",
    "        return '3등입니다.'\n",
    "    elif countman(x, y) == 4:\n",
    "        return '4등입니다.'\n",
    "    elif countman(x, y) == 3:\n",
    "        return '5등입니다.'\n",
    "    else:\n",
    "        return '꽝'\n",
    "\n",
    "for value in d.values():\n",
    "    print(buy(value, lucky, bonus))\n"
   ]
  },
  {
   "cell_type": "code",
   "execution_count": null,
   "id": "1f0196e4-30b5-45ea-816b-d9658ad5e2d6",
   "metadata": {},
   "outputs": [],
   "source": []
  }
 ],
 "metadata": {
  "kernelspec": {
   "display_name": "Python 3 (ipykernel)",
   "language": "python",
   "name": "python3"
  },
  "language_info": {
   "codemirror_mode": {
    "name": "ipython",
    "version": 3
   },
   "file_extension": ".py",
   "mimetype": "text/x-python",
   "name": "python",
   "nbconvert_exporter": "python",
   "pygments_lexer": "ipython3",
   "version": "3.12.4"
  }
 },
 "nbformat": 4,
 "nbformat_minor": 5
}
