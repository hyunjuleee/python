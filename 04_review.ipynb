{
 "cells": [
  {
   "cell_type": "code",
   "execution_count": 7,
   "id": "52ad2e24-0d52-44ef-bc3b-d377fd6cee68",
   "metadata": {},
   "outputs": [
    {
     "name": "stdout",
     "output_type": "stream",
     "text": [
      "hello my name is hong\n",
      "Hello my name is hong\n",
      "Hello My Name Is Hong\n",
      "HELLO MY NAME IS HONG\n",
      "hello my name is hong\n"
     ]
    }
   ],
   "source": [
    "# 문자열 메소드\n",
    "\n",
    "a = 'hello my name is hong'\n",
    "\n",
    "print(a)\n",
    "\n",
    "print(a.capitalize())\n",
    "\n",
    "print(a.title())\n",
    "\n",
    "print(a.upper())\n",
    "\n",
    "print(a.lower())"
   ]
  },
  {
   "cell_type": "code",
   "execution_count": 20,
   "id": "74cb41a3-1aa8-4628-a4dd-423fa73964b5",
   "metadata": {},
   "outputs": [
    {
     "name": "stdout",
     "output_type": "stream",
     "text": [
      "my name is\n",
      "hello\n",
      "hello\n",
      "5\n",
      "5\n"
     ]
    }
   ],
   "source": [
    "my_list = ['my', 'name', 'is']\n",
    "\n",
    "print(' '.join(my_list))\n",
    "\n",
    "my_string = '     hello     '\n",
    "print(my_string.strip())\n",
    "\n",
    "print(my_string.replace(' ',''))\n",
    "\n",
    "print(my_string.find('h'))\n",
    "print(my_string.index('h'))"
   ]
  },
  {
   "cell_type": "code",
   "execution_count": 24,
   "id": "0bdb159c-c3a2-4120-b0b1-188231253745",
   "metadata": {},
   "outputs": [
    {
     "name": "stdout",
     "output_type": "stream",
     "text": [
      "['my', 'name', 'is', 'hong']\n",
      "2\n"
     ]
    }
   ],
   "source": [
    "a = 'my name is hong'\n",
    "\n",
    "print(a.split())\n",
    "print(a.count('m'))"
   ]
  },
  {
   "cell_type": "code",
   "execution_count": 36,
   "id": "331b11cd-a9f2-478f-bd6b-f47e0264b575",
   "metadata": {},
   "outputs": [
    {
     "name": "stdout",
     "output_type": "stream",
     "text": [
      "[1, 2, 3, 4, 9, 8, 10]\n",
      "[1, 2, 3, 4, 9, 8, 10, 99, 100]\n",
      "[1, 2, 3, 4, 9, 8, 10, 99, 100, 99, 100]\n"
     ]
    }
   ],
   "source": [
    "# 리스트 메소드\n",
    "\n",
    "numbers = [1, 2, 3, 4, 9, 8]\n",
    "\n",
    "numbers.append(10)\n",
    "print(numbers)\n",
    "\n",
    "a = [99, 100]\n",
    "numbers.extend(a)\n",
    "print(numbers)\n",
    "\n",
    "print(numbers + a)"
   ]
  },
  {
   "cell_type": "code",
   "execution_count": 41,
   "id": "591f76a1-6e69-4e33-af57-fd059b3aec58",
   "metadata": {},
   "outputs": [
    {
     "name": "stdout",
     "output_type": "stream",
     "text": [
      "[1, 2, 3, 4, 9, 77, 77, 77, 77, 8, 10, 99, 100]\n"
     ]
    }
   ],
   "source": [
    "numbers.insert(5, 77)\n",
    "print(numbers)\n",
    "# n 번째에 어떤 숫자 삽입"
   ]
  },
  {
   "cell_type": "code",
   "execution_count": 44,
   "id": "9b6b1e61-88df-4c46-a72f-5d73672e8080",
   "metadata": {},
   "outputs": [
    {
     "name": "stdout",
     "output_type": "stream",
     "text": [
      "10\n",
      "2\n"
     ]
    }
   ],
   "source": [
    "print(numbers.pop())\n",
    "print(numbers.pop(0))"
   ]
  },
  {
   "cell_type": "code",
   "execution_count": 49,
   "id": "52f65cfc-2c82-4729-a423-73abe87e6ca4",
   "metadata": {},
   "outputs": [
    {
     "name": "stdout",
     "output_type": "stream",
     "text": [
      "[3, 4, 8, 9, 77, 77, 77, 77]\n"
     ]
    }
   ],
   "source": [
    "numbers.sort()\n",
    "print(numbers)"
   ]
  },
  {
   "cell_type": "code",
   "execution_count": 51,
   "id": "41632787-a2ad-4f10-a01a-f1c1902c12a4",
   "metadata": {},
   "outputs": [
    {
     "name": "stdout",
     "output_type": "stream",
     "text": [
      "[77, 77, 77, 77, 9, 8, 4, 3]\n"
     ]
    }
   ],
   "source": [
    "numbers.sort(reverse=True)\n",
    "print(numbers)"
   ]
  },
  {
   "cell_type": "code",
   "execution_count": 55,
   "id": "452a14a3-59bc-4c54-86b1-6a90c522d5de",
   "metadata": {},
   "outputs": [
    {
     "name": "stdout",
     "output_type": "stream",
     "text": [
      "[3, 4, 8, 9, 77, 77, 77, 77]\n",
      "[77, 77, 77, 77, 9, 8, 4, 3]\n"
     ]
    }
   ],
   "source": [
    "print(sorted(numbers))\n",
    "\n",
    "print(numbers)"
   ]
  },
  {
   "cell_type": "code",
   "execution_count": 57,
   "id": "c7bf1147-ab1c-4f49-a5ed-f55ea1afc429",
   "metadata": {},
   "outputs": [
    {
     "name": "stdout",
     "output_type": "stream",
     "text": [
      "[0, 2, 3]\n"
     ]
    }
   ],
   "source": [
    "# list copy\n",
    "\n",
    "origin_list = [1, 2, 3]\n",
    "copy_list = origin_list\n",
    "\n",
    "origin_list[0] = 0\n",
    "\n",
    "print(copy_list)"
   ]
  },
  {
   "cell_type": "code",
   "execution_count": 59,
   "id": "64bb3cc8-507a-4e93-b2b3-707208f96a35",
   "metadata": {},
   "outputs": [
    {
     "name": "stdout",
     "output_type": "stream",
     "text": [
      "[1, 2, 3]\n"
     ]
    }
   ],
   "source": [
    "origin_list = [1, 2, 3]\n",
    "copy_list = origin_list[:]\n",
    "\n",
    "origin_list[0] = 0\n",
    "\n",
    "print(copy_list)"
   ]
  },
  {
   "cell_type": "code",
   "execution_count": 66,
   "id": "82e08633-5805-4be6-aa72-91d0d99856f8",
   "metadata": {},
   "outputs": [
    {
     "name": "stdout",
     "output_type": "stream",
     "text": [
      "[1, 2, [300, 4]]\n"
     ]
    }
   ],
   "source": [
    "origin_list = [1, 2, [3, 4]]\n",
    "copy_list = origin_list[:]\n",
    "\n",
    "origin_list[2][0] = 300\n",
    "origin_list[0] = 100\n",
    "\n",
    "print(copy_list)"
   ]
  },
  {
   "cell_type": "markdown",
   "id": "c65c91be-77ea-4730-804b-d35438e51ecb",
   "metadata": {},
   "source": [
    "## List comprehension\n",
    "\n",
    "1. 1부터 10까지 숫자를 각각 세제곱한 list 만들기\n",
    "2. 1부터 10까지 숫자에서 짝수만 골라 list 만들기\n",
    "3. 'my name is hong'에서 모음만 제거하기"
   ]
  },
  {
   "cell_type": "code",
   "execution_count": 76,
   "id": "6d739439-22eb-4deb-81bc-0601f560516f",
   "metadata": {},
   "outputs": [
    {
     "name": "stdout",
     "output_type": "stream",
     "text": [
      "[1, 2, 3, 4, 5, 6, 7, 8, 9, 10]\n",
      "[1, 8, 27, 64, 125, 216, 343, 512, 729, 1000]\n"
     ]
    }
   ],
   "source": [
    "my_list = list(range(1, 11))\n",
    "print(my_list)\n",
    "\n",
    "answer = []\n",
    "for num in my_list:\n",
    "    answer.append(num ** 3)\n",
    "print(answer)"
   ]
  },
  {
   "cell_type": "code",
   "execution_count": 78,
   "id": "f2a584d2-49ce-488a-8669-e4cd01300bc9",
   "metadata": {},
   "outputs": [
    {
     "name": "stdout",
     "output_type": "stream",
     "text": [
      "[2, 4, 6, 8, 10]\n"
     ]
    }
   ],
   "source": [
    "answer = []\n",
    "\n",
    "for num in my_list:\n",
    "    if num % 2 == 0:\n",
    "        answer.append(num)\n",
    "\n",
    "print(answer)"
   ]
  },
  {
   "cell_type": "code",
   "execution_count": null,
   "id": "f0d232c7-0a04-44c9-a470-fc26a180b315",
   "metadata": {},
   "outputs": [],
   "source": []
  }
 ],
 "metadata": {
  "kernelspec": {
   "display_name": "Python 3 (ipykernel)",
   "language": "python",
   "name": "python3"
  },
  "language_info": {
   "codemirror_mode": {
    "name": "ipython",
    "version": 3
   },
   "file_extension": ".py",
   "mimetype": "text/x-python",
   "name": "python",
   "nbconvert_exporter": "python",
   "pygments_lexer": "ipython3",
   "version": "3.12.4"
  }
 },
 "nbformat": 4,
 "nbformat_minor": 5
}
