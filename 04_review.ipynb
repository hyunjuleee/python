{
 "cells": [
  {
   "cell_type": "code",
   "execution_count": 7,
   "id": "52ad2e24-0d52-44ef-bc3b-d377fd6cee68",
   "metadata": {},
   "outputs": [
    {
     "name": "stdout",
     "output_type": "stream",
     "text": [
      "hello my name is hong\n",
      "Hello my name is hong\n",
      "Hello My Name Is Hong\n",
      "HELLO MY NAME IS HONG\n",
      "hello my name is hong\n"
     ]
    }
   ],
   "source": [
    "# 문자열 메소드\n",
    "\n",
    "a = 'hello my name is hong'\n",
    "\n",
    "print(a)\n",
    "\n",
    "print(a.capitalize())\n",
    "\n",
    "print(a.title())\n",
    "\n",
    "print(a.upper())\n",
    "\n",
    "print(a.lower())"
   ]
  },
  {
   "cell_type": "code",
   "execution_count": 20,
   "id": "74cb41a3-1aa8-4628-a4dd-423fa73964b5",
   "metadata": {},
   "outputs": [
    {
     "name": "stdout",
     "output_type": "stream",
     "text": [
      "my name is\n",
      "hello\n",
      "hello\n",
      "5\n",
      "5\n"
     ]
    }
   ],
   "source": [
    "my_list = ['my', 'name', 'is']\n",
    "\n",
    "print(' '.join(my_list))\n",
    "\n",
    "my_string = '     hello     '\n",
    "print(my_string.strip())\n",
    "\n",
    "print(my_string.replace(' ',''))\n",
    "\n",
    "print(my_string.find('h'))\n",
    "print(my_string.index('h'))"
   ]
  },
  {
   "cell_type": "code",
   "execution_count": 24,
   "id": "0bdb159c-c3a2-4120-b0b1-188231253745",
   "metadata": {},
   "outputs": [
    {
     "name": "stdout",
     "output_type": "stream",
     "text": [
      "['my', 'name', 'is', 'hong']\n",
      "2\n"
     ]
    }
   ],
   "source": [
    "a = 'my name is hong'\n",
    "\n",
    "print(a.split())\n",
    "print(a.count('m'))"
   ]
  },
  {
   "cell_type": "code",
   "execution_count": 36,
   "id": "331b11cd-a9f2-478f-bd6b-f47e0264b575",
   "metadata": {},
   "outputs": [
    {
     "name": "stdout",
     "output_type": "stream",
     "text": [
      "[1, 2, 3, 4, 9, 8, 10]\n",
      "[1, 2, 3, 4, 9, 8, 10, 99, 100]\n",
      "[1, 2, 3, 4, 9, 8, 10, 99, 100, 99, 100]\n"
     ]
    }
   ],
   "source": [
    "# 리스트 메소드\n",
    "\n",
    "numbers = [1, 2, 3, 4, 9, 8]\n",
    "\n",
    "numbers.append(10)\n",
    "print(numbers)\n",
    "\n",
    "a = [99, 100]\n",
    "numbers.extend(a)\n",
    "print(numbers)\n",
    "\n",
    "print(numbers + a)"
   ]
  },
  {
   "cell_type": "code",
   "execution_count": 41,
   "id": "591f76a1-6e69-4e33-af57-fd059b3aec58",
   "metadata": {},
   "outputs": [
    {
     "name": "stdout",
     "output_type": "stream",
     "text": [
      "[1, 2, 3, 4, 9, 77, 77, 77, 77, 8, 10, 99, 100]\n"
     ]
    }
   ],
   "source": [
    "numbers.insert(5, 77)\n",
    "print(numbers)\n",
    "# n 번째에 어떤 숫자 삽입"
   ]
  },
  {
   "cell_type": "code",
   "execution_count": 44,
   "id": "9b6b1e61-88df-4c46-a72f-5d73672e8080",
   "metadata": {},
   "outputs": [
    {
     "name": "stdout",
     "output_type": "stream",
     "text": [
      "10\n",
      "2\n"
     ]
    }
   ],
   "source": [
    "print(numbers.pop())\n",
    "print(numbers.pop(0))"
   ]
  },
  {
   "cell_type": "code",
   "execution_count": 49,
   "id": "52f65cfc-2c82-4729-a423-73abe87e6ca4",
   "metadata": {},
   "outputs": [
    {
     "name": "stdout",
     "output_type": "stream",
     "text": [
      "[3, 4, 8, 9, 77, 77, 77, 77]\n"
     ]
    }
   ],
   "source": [
    "numbers.sort()\n",
    "print(numbers)"
   ]
  },
  {
   "cell_type": "code",
   "execution_count": 51,
   "id": "41632787-a2ad-4f10-a01a-f1c1902c12a4",
   "metadata": {},
   "outputs": [
    {
     "name": "stdout",
     "output_type": "stream",
     "text": [
      "[77, 77, 77, 77, 9, 8, 4, 3]\n"
     ]
    }
   ],
   "source": [
    "numbers.sort(reverse=True)\n",
    "print(numbers)"
   ]
  },
  {
   "cell_type": "code",
   "execution_count": 55,
   "id": "452a14a3-59bc-4c54-86b1-6a90c522d5de",
   "metadata": {},
   "outputs": [
    {
     "name": "stdout",
     "output_type": "stream",
     "text": [
      "[3, 4, 8, 9, 77, 77, 77, 77]\n",
      "[77, 77, 77, 77, 9, 8, 4, 3]\n"
     ]
    }
   ],
   "source": [
    "print(sorted(numbers))\n",
    "\n",
    "print(numbers)"
   ]
  },
  {
   "cell_type": "code",
   "execution_count": 57,
   "id": "c7bf1147-ab1c-4f49-a5ed-f55ea1afc429",
   "metadata": {},
   "outputs": [
    {
     "name": "stdout",
     "output_type": "stream",
     "text": [
      "[0, 2, 3]\n"
     ]
    }
   ],
   "source": [
    "# list copy\n",
    "\n",
    "origin_list = [1, 2, 3]\n",
    "copy_list = origin_list\n",
    "\n",
    "origin_list[0] = 0\n",
    "\n",
    "print(copy_list)"
   ]
  },
  {
   "cell_type": "code",
   "execution_count": 59,
   "id": "64bb3cc8-507a-4e93-b2b3-707208f96a35",
   "metadata": {},
   "outputs": [
    {
     "name": "stdout",
     "output_type": "stream",
     "text": [
      "[1, 2, 3]\n"
     ]
    }
   ],
   "source": [
    "origin_list = [1, 2, 3]\n",
    "copy_list = origin_list[:]\n",
    "\n",
    "origin_list[0] = 0\n",
    "\n",
    "print(copy_list)"
   ]
  },
  {
   "cell_type": "code",
   "execution_count": 66,
   "id": "82e08633-5805-4be6-aa72-91d0d99856f8",
   "metadata": {},
   "outputs": [
    {
     "name": "stdout",
     "output_type": "stream",
     "text": [
      "[1, 2, [300, 4]]\n"
     ]
    }
   ],
   "source": [
    "origin_list = [1, 2, [3, 4]]\n",
    "copy_list = origin_list[:]\n",
    "\n",
    "origin_list[2][0] = 300\n",
    "origin_list[0] = 100\n",
    "\n",
    "print(copy_list)"
   ]
  },
  {
   "cell_type": "markdown",
   "id": "c65c91be-77ea-4730-804b-d35438e51ecb",
   "metadata": {},
   "source": [
    "## List comprehension\n",
    "\n",
    "1. 1부터 10까지 숫자를 각각 세제곱한 list 만들기\n",
    "2. 1부터 10까지 숫자에서 짝수만 골라 list 만들기\n",
    "3. 'my name is hong'에서 모음만 제거하기"
   ]
  },
  {
   "cell_type": "code",
   "execution_count": 76,
   "id": "6d739439-22eb-4deb-81bc-0601f560516f",
   "metadata": {},
   "outputs": [
    {
     "name": "stdout",
     "output_type": "stream",
     "text": [
      "[1, 2, 3, 4, 5, 6, 7, 8, 9, 10]\n",
      "[1, 8, 27, 64, 125, 216, 343, 512, 729, 1000]\n"
     ]
    }
   ],
   "source": [
    "my_list = list(range(1, 11))\n",
    "print(my_list)\n",
    "\n",
    "answer = []\n",
    "for num in my_list:\n",
    "    answer.append(num ** 3)\n",
    "print(answer)"
   ]
  },
  {
   "cell_type": "code",
   "execution_count": 19,
   "id": "f2a584d2-49ce-488a-8669-e4cd01300bc9",
   "metadata": {},
   "outputs": [
    {
     "ename": "NameError",
     "evalue": "name 'my_list' is not defined",
     "output_type": "error",
     "traceback": [
      "\u001b[1;31m-------------------------------------------------------------------------\u001b[0m",
      "\u001b[1;31mNameError\u001b[0m                               Traceback (most recent call last)",
      "Cell \u001b[1;32mIn[19], line 3\u001b[0m\n\u001b[0;32m      1\u001b[0m answer \u001b[38;5;241m=\u001b[39m []\n\u001b[1;32m----> 3\u001b[0m \u001b[38;5;28;01mfor\u001b[39;00m num \u001b[38;5;129;01min\u001b[39;00m \u001b[43mmy_list\u001b[49m:\n\u001b[0;32m      4\u001b[0m     \u001b[38;5;28;01mif\u001b[39;00m num \u001b[38;5;241m%\u001b[39m \u001b[38;5;241m2\u001b[39m \u001b[38;5;241m==\u001b[39m \u001b[38;5;241m0\u001b[39m:\n\u001b[0;32m      5\u001b[0m         answer\u001b[38;5;241m.\u001b[39mappend(num)\n",
      "\u001b[1;31mNameError\u001b[0m: name 'my_list' is not defined"
     ]
    }
   ],
   "source": [
    "answer = []\n",
    "\n",
    "for num in my_list:\n",
    "    if num % 2 == 0:\n",
    "        answer.append(num)\n",
    "\n",
    "print(answer)"
   ]
  },
  {
   "cell_type": "markdown",
   "id": "9b95d8a3-dbc7-43ab-801d-ec2240dfcfe2",
   "metadata": {},
   "source": [
    "# 모듈 - 로또"
   ]
  },
  {
   "cell_type": "code",
   "execution_count": 2,
   "id": "f0d232c7-0a04-44c9-a470-fc26a180b315",
   "metadata": {},
   "outputs": [],
   "source": [
    "import requests"
   ]
  },
  {
   "cell_type": "code",
   "execution_count": 6,
   "id": "2f84c91d-504c-4019-ae9e-d4b82e5bf587",
   "metadata": {},
   "outputs": [
    {
     "name": "stdout",
     "output_type": "stream",
     "text": [
      "{\"totSellamnt\":111998191000,\"returnValue\":\"success\",\"drwNoDate\":\"2024-06-29\",\"firstWinamnt\":2386382421,\"drwtNo6\":40,\"drwtNo4\":11,\"firstPrzwnerCo\":11,\"drwtNo5\":37,\"bnusNo\":7,\"firstAccumamnt\":26250206631,\"drwNo\":1126,\"drwtNo2\":5,\"drwtNo3\":9,\"drwtNo1\":4}\n"
     ]
    }
   ],
   "source": [
    "r = requests.get('https://www.dhlottery.co.kr/common.do?method=getLottoNumber&drwNo=1126')\n",
    "print(r.text)"
   ]
  },
  {
   "cell_type": "code",
   "execution_count": 36,
   "id": "4e196602-f2e1-4ac8-8d36-ae69f449a01e",
   "metadata": {},
   "outputs": [
    {
     "name": "stdout",
     "output_type": "stream",
     "text": [
      "{'totSellamnt': 111998191000, 'returnValue': 'success', 'drwNoDate': '2024-06-29', 'firstWinamnt': 2386382421, 'drwtNo6': 40, 'drwtNo4': 11, 'firstPrzwnerCo': 11, 'drwtNo5': 37, 'bnusNo': 7, 'firstAccumamnt': 26250206631, 'drwNo': 1126, 'drwtNo2': 5, 'drwtNo3': 9, 'drwtNo1': 4}\n",
      "[4, 5, 9, 11, 37, 40]\n",
      "7\n",
      "이번주 당첨번호: [4, 5, 9, 11, 37, 40], BN: 7\n"
     ]
    }
   ],
   "source": [
    "# 당첨번호 및 보너스 list 만들기\n",
    "# 이번주 당첨번호 : [40, 11, 37, 5, 9, 4], BN: 7\n",
    "payload = {\n",
    "    'method': 'getLottoNumber',\n",
    "    'drwNo': 1126\n",
    "}\n",
    "\n",
    "r = requests.get('https://www.dhlottery.co.kr/common.do', params=payload)\n",
    "\n",
    "print(r.json())\n",
    "\n",
    "dict_origin = r.json()\n",
    "list_lotto = []\n",
    "\n",
    "for i in range(1, 7):\n",
    "    list_lotto.append(dict_origin[f'drwtNo{i}'])\n",
    "\n",
    "print(list_lotto)\n",
    "\n",
    "bonus = dict_origin['bnusNo']\n",
    "\n",
    "print(bonus)\n",
    "\n",
    "print(f'이번주 당첨번호: {list_lotto}, BN: {bonus}')"
   ]
  },
  {
   "cell_type": "code",
   "execution_count": 33,
   "id": "aba1f272-052d-44cd-b207-9aa5fd6f66fe",
   "metadata": {},
   "outputs": [
    {
     "name": "stdout",
     "output_type": "stream",
     "text": [
      "[1, 2, 3, 4, 5, 6, 7, 8, 9, 10, 11, 12, 13, 14, 15, 16, 17, 18, 19, 20, 21, 22, 23, 24, 25, 26, 27, 28, 29, 30, 31, 32, 33, 34, 35, 36, 37, 38, 39, 40, 41, 42, 43, 44, 45]\n",
      "{'1회차': [11, 18, 16, 10, 3, 23], '2회차': [11, 18, 16, 10, 3, 23], '3회차': [11, 18, 16, 10, 3, 23], '4회차': [11, 18, 16, 10, 3, 23], '5회차': [11, 18, 16, 10, 3, 23]}\n"
     ]
    }
   ],
   "source": [
    "# 로또 5개 사기\n",
    "\n",
    "import random\n",
    "\n",
    "random_numbers = list(range(1, 46))\n",
    "print(random_numbers)\n",
    "\n",
    "lucky = random.sample(random_numbers, 6)\n",
    "\n",
    "# 이걸 똑같이 5개 list로 만들기\n",
    "# {1회차: [list1], 2회차: [list2] ...} 형태로\n",
    "# hint: key-value값 선언하는 것 이용하기\n",
    "\n",
    "result = {}\n",
    "\n",
    "for i in range(1, 6):\n",
    "    result[f'{i}회차'] = lucky\n",
    "\n",
    "print(result)"
   ]
  },
  {
   "cell_type": "code",
   "execution_count": 76,
   "id": "77a3a9ae-2f58-4e7e-a76e-963fd91f05cf",
   "metadata": {},
   "outputs": [
    {
     "name": "stdout",
     "output_type": "stream",
     "text": [
      "꽝입니다.\n"
     ]
    }
   ],
   "source": [
    "# 당첨 번호와 내가 산 로또 번호 맞추기\n",
    "# 1. 번호 6개가 모두 일치할 때 - 1등\n",
    "# 2. 번호 5개와 보너스 번호가 일치할 때 - 2등\n",
    "# 3. 번호 5개가 일치할 때 - 3등\n",
    "# 4. 번호 4개가 일치할 때 - 4등\n",
    "# 5. 번호 3개가 일치할 때 - 5등\n",
    "# 나머지 - 꽝\n",
    "\n",
    "def count_man(x, y):\n",
    "    num = 0\n",
    "    for i in x:\n",
    "        if i in y:\n",
    "            num += 1\n",
    "    return num\n",
    "\n",
    "def luck(x, y, z):\n",
    "    if count_man(x, y) == 6:\n",
    "        return '1등입니다.'\n",
    "    elif count_man(x, y) == 5 and z in x:\n",
    "        return '2등입니다.'\n",
    "    elif count_man(x, y) == 5:\n",
    "        return '3등입니다.'\n",
    "    elif count_man(x, y) == 4:\n",
    "        return '4등입니다.'\n",
    "    elif count_man(x, y) == 3:\n",
    "        return '5등입니다.'\n",
    "    else:\n",
    "        return '꽝입니다.'\n",
    "\n",
    "print(luck(result, list_lotto, bonus))"
   ]
  },
  {
   "cell_type": "code",
   "execution_count": 88,
   "id": "aa9458d7-ac66-42c5-aa5a-230eb0fd2da8",
   "metadata": {},
   "outputs": [
    {
     "name": "stdout",
     "output_type": "stream",
     "text": [
      "{'1회차': [11, 18, 16, 10, 3, 23], '2회차': [11, 18, 16, 10, 3, 23], '3회차': [11, 18, 16, 10, 3, 23], '4회차': [11, 18, 16, 10, 3, 23], '5회차': [11, 18, 16, 10, 3, 23]}\n",
      "꽝입니다.\n",
      "꽝입니다.\n",
      "꽝입니다.\n",
      "꽝입니다.\n",
      "꽝입니다.\n"
     ]
    }
   ],
   "source": [
    "# 최최종!\n",
    "\n",
    "print(result)\n",
    "\n",
    "for i in result.values():\n",
    "    print(luck(result, list_lotto, bonus))"
   ]
  }
 ],
 "metadata": {
  "kernelspec": {
   "display_name": "Python 3 (ipykernel)",
   "language": "python",
   "name": "python3"
  },
  "language_info": {
   "codemirror_mode": {
    "name": "ipython",
    "version": 3
   },
   "file_extension": ".py",
   "mimetype": "text/x-python",
   "name": "python",
   "nbconvert_exporter": "python",
   "pygments_lexer": "ipython3",
   "version": "3.12.4"
  }
 },
 "nbformat": 4,
 "nbformat_minor": 5
}
