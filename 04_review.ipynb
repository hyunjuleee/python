{
 "cells": [
  {
   "cell_type": "code",
   "execution_count": 7,
   "id": "52ad2e24-0d52-44ef-bc3b-d377fd6cee68",
   "metadata": {},
   "outputs": [
    {
     "name": "stdout",
     "output_type": "stream",
     "text": [
      "hello my name is hong\n",
      "Hello my name is hong\n",
      "Hello My Name Is Hong\n",
      "HELLO MY NAME IS HONG\n",
      "hello my name is hong\n"
     ]
    }
   ],
   "source": [
    "# 문자열 메소드\n",
    "\n",
    "a = 'hello my name is hong'\n",
    "\n",
    "print(a)\n",
    "\n",
    "print(a.capitalize())\n",
    "\n",
    "print(a.title())\n",
    "\n",
    "print(a.upper())\n",
    "\n",
    "print(a.lower())"
   ]
  },
  {
   "cell_type": "code",
   "execution_count": 20,
   "id": "74cb41a3-1aa8-4628-a4dd-423fa73964b5",
   "metadata": {},
   "outputs": [
    {
     "name": "stdout",
     "output_type": "stream",
     "text": [
      "my name is\n",
      "hello\n",
      "hello\n",
      "5\n",
      "5\n"
     ]
    }
   ],
   "source": [
    "my_list = ['my', 'name', 'is']\n",
    "\n",
    "print(' '.join(my_list))\n",
    "\n",
    "my_string = '     hello     '\n",
    "print(my_string.strip())\n",
    "\n",
    "print(my_string.replace(' ',''))\n",
    "\n",
    "print(my_string.find('h'))\n",
    "print(my_string.index('h'))"
   ]
  },
  {
   "cell_type": "code",
   "execution_count": 24,
   "id": "0bdb159c-c3a2-4120-b0b1-188231253745",
   "metadata": {},
   "outputs": [
    {
     "name": "stdout",
     "output_type": "stream",
     "text": [
      "['my', 'name', 'is', 'hong']\n",
      "2\n"
     ]
    }
   ],
   "source": [
    "a = 'my name is hong'\n",
    "\n",
    "print(a.split())\n",
    "print(a.count('m'))"
   ]
  },
  {
   "cell_type": "code",
   "execution_count": 36,
   "id": "331b11cd-a9f2-478f-bd6b-f47e0264b575",
   "metadata": {},
   "outputs": [
    {
     "name": "stdout",
     "output_type": "stream",
     "text": [
      "[1, 2, 3, 4, 9, 8, 10]\n",
      "[1, 2, 3, 4, 9, 8, 10, 99, 100]\n",
      "[1, 2, 3, 4, 9, 8, 10, 99, 100, 99, 100]\n"
     ]
    }
   ],
   "source": [
    "# 리스트 메소드\n",
    "\n",
    "numbers = [1, 2, 3, 4, 9, 8]\n",
    "\n",
    "numbers.append(10)\n",
    "print(numbers)\n",
    "\n",
    "a = [99, 100]\n",
    "numbers.extend(a)\n",
    "print(numbers)\n",
    "\n",
    "print(numbers + a)"
   ]
  },
  {
   "cell_type": "code",
   "execution_count": 41,
   "id": "591f76a1-6e69-4e33-af57-fd059b3aec58",
   "metadata": {},
   "outputs": [
    {
     "name": "stdout",
     "output_type": "stream",
     "text": [
      "[1, 2, 3, 4, 9, 77, 77, 77, 77, 8, 10, 99, 100]\n"
     ]
    }
   ],
   "source": [
    "numbers.insert(5, 77)\n",
    "print(numbers)\n",
    "# n 번째에 어떤 숫자 삽입"
   ]
  },
  {
   "cell_type": "code",
   "execution_count": 44,
   "id": "9b6b1e61-88df-4c46-a72f-5d73672e8080",
   "metadata": {},
   "outputs": [
    {
     "name": "stdout",
     "output_type": "stream",
     "text": [
      "10\n",
      "2\n"
     ]
    }
   ],
   "source": [
    "print(numbers.pop())\n",
    "print(numbers.pop(0))"
   ]
  },
  {
   "cell_type": "code",
   "execution_count": 49,
   "id": "52f65cfc-2c82-4729-a423-73abe87e6ca4",
   "metadata": {},
   "outputs": [
    {
     "name": "stdout",
     "output_type": "stream",
     "text": [
      "[3, 4, 8, 9, 77, 77, 77, 77]\n"
     ]
    }
   ],
   "source": [
    "numbers.sort()\n",
    "print(numbers)"
   ]
  },
  {
   "cell_type": "code",
   "execution_count": 51,
   "id": "41632787-a2ad-4f10-a01a-f1c1902c12a4",
   "metadata": {},
   "outputs": [
    {
     "name": "stdout",
     "output_type": "stream",
     "text": [
      "[77, 77, 77, 77, 9, 8, 4, 3]\n"
     ]
    }
   ],
   "source": [
    "numbers.sort(reverse=True)\n",
    "print(numbers)"
   ]
  },
  {
   "cell_type": "code",
   "execution_count": 55,
   "id": "452a14a3-59bc-4c54-86b1-6a90c522d5de",
   "metadata": {},
   "outputs": [
    {
     "name": "stdout",
     "output_type": "stream",
     "text": [
      "[3, 4, 8, 9, 77, 77, 77, 77]\n",
      "[77, 77, 77, 77, 9, 8, 4, 3]\n"
     ]
    }
   ],
   "source": [
    "print(sorted(numbers))\n",
    "\n",
    "print(numbers)"
   ]
  },
  {
   "cell_type": "code",
   "execution_count": 57,
   "id": "c7bf1147-ab1c-4f49-a5ed-f55ea1afc429",
   "metadata": {},
   "outputs": [
    {
     "name": "stdout",
     "output_type": "stream",
     "text": [
      "[0, 2, 3]\n"
     ]
    }
   ],
   "source": [
    "# list copy\n",
    "\n",
    "origin_list = [1, 2, 3]\n",
    "copy_list = origin_list\n",
    "\n",
    "origin_list[0] = 0\n",
    "\n",
    "print(copy_list)"
   ]
  },
  {
   "cell_type": "code",
   "execution_count": 59,
   "id": "64bb3cc8-507a-4e93-b2b3-707208f96a35",
   "metadata": {},
   "outputs": [
    {
     "name": "stdout",
     "output_type": "stream",
     "text": [
      "[1, 2, 3]\n"
     ]
    }
   ],
   "source": [
    "origin_list = [1, 2, 3]\n",
    "copy_list = origin_list[:]\n",
    "\n",
    "origin_list[0] = 0\n",
    "\n",
    "print(copy_list)"
   ]
  },
  {
   "cell_type": "code",
   "execution_count": 66,
   "id": "82e08633-5805-4be6-aa72-91d0d99856f8",
   "metadata": {},
   "outputs": [
    {
     "name": "stdout",
     "output_type": "stream",
     "text": [
      "[1, 2, [300, 4]]\n"
     ]
    }
   ],
   "source": [
    "origin_list = [1, 2, [3, 4]]\n",
    "copy_list = origin_list[:]\n",
    "\n",
    "origin_list[2][0] = 300\n",
    "origin_list[0] = 100\n",
    "\n",
    "print(copy_list)"
   ]
  },
  {
   "cell_type": "markdown",
   "id": "c65c91be-77ea-4730-804b-d35438e51ecb",
   "metadata": {},
   "source": [
    "## List comprehension\n",
    "\n",
    "1. 1부터 10까지 숫자를 각각 세제곱한 list 만들기\n",
    "2. 1부터 10까지 숫자에서 짝수만 골라 list 만들기\n",
    "3. 'my name is hong'에서 모음만 제거하기"
   ]
  },
  {
   "cell_type": "code",
   "execution_count": 76,
   "id": "6d739439-22eb-4deb-81bc-0601f560516f",
   "metadata": {},
   "outputs": [
    {
     "name": "stdout",
     "output_type": "stream",
     "text": [
      "[1, 2, 3, 4, 5, 6, 7, 8, 9, 10]\n",
      "[1, 8, 27, 64, 125, 216, 343, 512, 729, 1000]\n"
     ]
    }
   ],
   "source": [
    "my_list = list(range(1, 11))\n",
    "print(my_list)\n",
    "\n",
    "answer = []\n",
    "for num in my_list:\n",
    "    answer.append(num ** 3)\n",
    "print(answer)"
   ]
  },
  {
   "cell_type": "code",
   "execution_count": 19,
   "id": "f2a584d2-49ce-488a-8669-e4cd01300bc9",
   "metadata": {},
   "outputs": [
    {
     "ename": "NameError",
     "evalue": "name 'my_list' is not defined",
     "output_type": "error",
     "traceback": [
      "\u001b[1;31m-------------------------------------------------------------------------\u001b[0m",
      "\u001b[1;31mNameError\u001b[0m                               Traceback (most recent call last)",
      "Cell \u001b[1;32mIn[19], line 3\u001b[0m\n\u001b[0;32m      1\u001b[0m answer \u001b[38;5;241m=\u001b[39m []\n\u001b[1;32m----> 3\u001b[0m \u001b[38;5;28;01mfor\u001b[39;00m num \u001b[38;5;129;01min\u001b[39;00m \u001b[43mmy_list\u001b[49m:\n\u001b[0;32m      4\u001b[0m     \u001b[38;5;28;01mif\u001b[39;00m num \u001b[38;5;241m%\u001b[39m \u001b[38;5;241m2\u001b[39m \u001b[38;5;241m==\u001b[39m \u001b[38;5;241m0\u001b[39m:\n\u001b[0;32m      5\u001b[0m         answer\u001b[38;5;241m.\u001b[39mappend(num)\n",
      "\u001b[1;31mNameError\u001b[0m: name 'my_list' is not defined"
     ]
    }
   ],
   "source": [
    "answer = []\n",
    "\n",
    "for num in my_list:\n",
    "    if num % 2 == 0:\n",
    "        answer.append(num)\n",
    "\n",
    "print(answer)"
   ]
  },
  {
   "cell_type": "markdown",
   "id": "9b95d8a3-dbc7-43ab-801d-ec2240dfcfe2",
   "metadata": {},
   "source": [
    "# 모듈 - 로또"
   ]
  },
  {
   "cell_type": "code",
   "execution_count": 2,
   "id": "f0d232c7-0a04-44c9-a470-fc26a180b315",
   "metadata": {},
   "outputs": [],
   "source": [
    "import requests"
   ]
  },
  {
   "cell_type": "code",
   "execution_count": 6,
   "id": "2f84c91d-504c-4019-ae9e-d4b82e5bf587",
   "metadata": {},
   "outputs": [
    {
     "name": "stdout",
     "output_type": "stream",
     "text": [
      "{\"totSellamnt\":111998191000,\"returnValue\":\"success\",\"drwNoDate\":\"2024-06-29\",\"firstWinamnt\":2386382421,\"drwtNo6\":40,\"drwtNo4\":11,\"firstPrzwnerCo\":11,\"drwtNo5\":37,\"bnusNo\":7,\"firstAccumamnt\":26250206631,\"drwNo\":1126,\"drwtNo2\":5,\"drwtNo3\":9,\"drwtNo1\":4}\n"
     ]
    }
   ],
   "source": [
    "r = requests.get('https://www.dhlottery.co.kr/common.do?method=getLottoNumber&drwNo=1126')\n",
    "print(r.text)"
   ]
  },
  {
   "cell_type": "code",
   "execution_count": 36,
   "id": "4e196602-f2e1-4ac8-8d36-ae69f449a01e",
   "metadata": {},
   "outputs": [
    {
     "name": "stdout",
     "output_type": "stream",
     "text": [
      "{'totSellamnt': 111998191000, 'returnValue': 'success', 'drwNoDate': '2024-06-29', 'firstWinamnt': 2386382421, 'drwtNo6': 40, 'drwtNo4': 11, 'firstPrzwnerCo': 11, 'drwtNo5': 37, 'bnusNo': 7, 'firstAccumamnt': 26250206631, 'drwNo': 1126, 'drwtNo2': 5, 'drwtNo3': 9, 'drwtNo1': 4}\n",
      "[4, 5, 9, 11, 37, 40]\n",
      "7\n",
      "이번주 당첨번호: [4, 5, 9, 11, 37, 40], BN: 7\n"
     ]
    }
   ],
   "source": [
    "# 당첨번호 및 보너스 list 만들기\n",
    "# 이번주 당첨번호 : [40, 11, 37, 5, 9, 4], BN: 7\n",
    "payload = {\n",
    "    'method': 'getLottoNumber',\n",
    "    'drwNo': 1126\n",
    "}\n",
    "\n",
    "r = requests.get('https://www.dhlottery.co.kr/common.do', params=payload)\n",
    "\n",
    "print(r.json())\n",
    "\n",
    "dict_origin = r.json()\n",
    "list_lotto = []\n",
    "\n",
    "for i in range(1, 7):\n",
    "    list_lotto.append(dict_origin[f'drwtNo{i}'])\n",
    "\n",
    "print(list_lotto)\n",
    "\n",
    "bonus = dict_origin['bnusNo']\n",
    "\n",
    "print(bonus)\n",
    "\n",
    "print(f'이번주 당첨번호: {list_lotto}, BN: {bonus}')"
   ]
  },
  {
   "cell_type": "code",
   "execution_count": 1,
   "id": "aba1f272-052d-44cd-b207-9aa5fd6f66fe",
   "metadata": {},
   "outputs": [
    {
     "name": "stdout",
     "output_type": "stream",
     "text": [
      "[1, 2, 3, 4, 5, 6, 7, 8, 9, 10, 11, 12, 13, 14, 15, 16, 17, 18, 19, 20, 21, 22, 23, 24, 25, 26, 27, 28, 29, 30, 31, 32, 33, 34, 35, 36, 37, 38, 39, 40, 41, 42, 43, 44, 45]\n",
      "{'1회차': [3, 36, 11, 14, 22, 10], '2회차': [35, 45, 17, 11, 27, 31], '3회차': [31, 15, 9, 1, 12, 6], '4회차': [33, 40, 18, 28, 11, 17], '5회차': [43, 15, 32, 2, 23, 44]}\n"
     ]
    }
   ],
   "source": [
    "# 로또 5개 사기\n",
    "\n",
    "import random\n",
    "\n",
    "random_numbers = list(range(1, 46))\n",
    "print(random_numbers)\n",
    "\n",
    "# 이걸 똑같이 5개 list로 만들기\n",
    "# {1회차: [list1], 2회차: [list2] ...} 형태로\n",
    "# hint: key-value값 선언하는 것 이용하기\n",
    "\n",
    "result = {}\n",
    "\n",
    "for i in range(1, 6):\n",
    "    result[f'{i}회차'] = random.sample(random_numbers, 6)\n",
    "\n",
    "print(result)"
   ]
  },
  {
   "cell_type": "code",
   "execution_count": 2,
   "id": "77a3a9ae-2f58-4e7e-a76e-963fd91f05cf",
   "metadata": {},
   "outputs": [
    {
     "ename": "NameError",
     "evalue": "name 'list_lotto' is not defined",
     "output_type": "error",
     "traceback": [
      "\u001b[1;31m---------------------------------------------------------------------------\u001b[0m",
      "\u001b[1;31mNameError\u001b[0m                                 Traceback (most recent call last)",
      "Cell \u001b[1;32mIn[2], line 30\u001b[0m\n\u001b[0;32m     27\u001b[0m     \u001b[38;5;28;01melse\u001b[39;00m:\n\u001b[0;32m     28\u001b[0m         \u001b[38;5;28;01mreturn\u001b[39;00m \u001b[38;5;124m'\u001b[39m\u001b[38;5;124m꽝입니다.\u001b[39m\u001b[38;5;124m'\u001b[39m\n\u001b[1;32m---> 30\u001b[0m \u001b[38;5;28mprint\u001b[39m(luck(result, \u001b[43mlist_lotto\u001b[49m, bonus))\n",
      "\u001b[1;31mNameError\u001b[0m: name 'list_lotto' is not defined"
     ]
    }
   ],
   "source": [
    "# 당첨 번호와 내가 산 로또 번호 맞추기\n",
    "# 1. 번호 6개가 모두 일치할 때 - 1등\n",
    "# 2. 번호 5개와 보너스 번호가 일치할 때 - 2등\n",
    "# 3. 번호 5개가 일치할 때 - 3등\n",
    "# 4. 번호 4개가 일치할 때 - 4등\n",
    "# 5. 번호 3개가 일치할 때 - 5등\n",
    "# 나머지 - 꽝\n",
    "\n",
    "def count_man(x, y):\n",
    "    num = 0\n",
    "    for i in x:\n",
    "        if i in y:\n",
    "            num += 1\n",
    "    return num\n",
    "\n",
    "def luck(x, y, z):\n",
    "    if count_man(x, y) == 6:\n",
    "        return '1등입니다.'\n",
    "    elif count_man(x, y) == 5 and z in x:\n",
    "        return '2등입니다.'\n",
    "    elif count_man(x, y) == 5:\n",
    "        return '3등입니다.'\n",
    "    elif count_man(x, y) == 4:\n",
    "        return '4등입니다.'\n",
    "    elif count_man(x, y) == 3:\n",
    "        return '5등입니다.'\n",
    "    else:\n",
    "        return '꽝입니다.'\n",
    "\n",
    "print(luck(result, list_lotto, bonus))"
   ]
  },
  {
   "cell_type": "code",
   "execution_count": 7,
   "id": "aa9458d7-ac66-42c5-aa5a-230eb0fd2da8",
   "metadata": {},
   "outputs": [
    {
     "name": "stdout",
     "output_type": "stream",
     "text": [
      "{'totSellamnt': 111998191000, 'returnValue': 'success', 'drwNoDate': '2024-06-29', 'firstWinamnt': 2386382421, 'drwtNo6': 40, 'drwtNo4': 11, 'firstPrzwnerCo': 11, 'drwtNo5': 37, 'bnusNo': 7, 'firstAccumamnt': 26250206631, 'drwNo': 1126, 'drwtNo2': 5, 'drwtNo3': 9, 'drwtNo1': 4}\n",
      "[4, 5, 9, 11, 37, 40]\n",
      "7\n",
      "이번주 당첨번호: [4, 5, 9, 11, 37, 40], BN: 7\n",
      "{'1회차': [7, 25, 18, 22, 40, 21], '2회차': [8, 41, 4, 37, 29, 38], '3회차': [6, 43, 17, 32, 7, 40], '4회차': [7, 42, 16, 1, 15, 39], '5회차': [3, 20, 4, 25, 13, 31]}\n",
      "[1, 2, 3, 4, 5, 6, 7, 8, 9, 10, 11, 12, 13, 14, 15, 16, 17, 18, 19, 20, 21, 22, 23, 24, 25, 26, 27, 28, 29, 30, 31, 32, 33, 34, 35, 36, 37, 38, 39, 40, 41, 42, 43, 44, 45]\n",
      "{'1회차': [15, 45, 37, 11, 20, 19], '2회차': [33, 37, 23, 35, 17, 20], '3회차': [19, 3, 43, 1, 44, 2], '4회차': [3, 25, 11, 24, 9, 22], '5회차': [2, 9, 25, 27, 33, 5]}\n",
      "꽝입니다.\n",
      "꽝입니다.\n",
      "꽝입니다.\n",
      "꽝입니다.\n",
      "꽝입니다.\n",
      "꽝입니다.\n"
     ]
    }
   ],
   "source": [
    "# 최최종!\n",
    "\n",
    "import requests\n",
    "\n",
    "payload = {\n",
    "    'method': 'getLottoNumber',\n",
    "    'drwNo': 1126\n",
    "}\n",
    "\n",
    "r = requests.get('https://www.dhlottery.co.kr/common.do', params=payload)\n",
    "\n",
    "print(r.json())\n",
    "\n",
    "dict_origin = r.json()\n",
    "list_lotto = []\n",
    "\n",
    "for i in range(1, 7):\n",
    "    list_lotto.append(dict_origin[f'drwtNo{i}'])\n",
    "\n",
    "print(list_lotto)\n",
    "\n",
    "bonus = dict_origin['bnusNo']\n",
    "\n",
    "print(bonus)\n",
    "\n",
    "print(f'이번주 당첨번호: {list_lotto}, BN: {bonus}')\n",
    "\n",
    "print(result)\n",
    "\n",
    "import random\n",
    "\n",
    "random_numbers = list(range(1, 46))\n",
    "print(random_numbers)\n",
    "\n",
    "# 이걸 똑같이 5개 list로 만들기\n",
    "# {1회차: [list1], 2회차: [list2] ...} 형태로\n",
    "# hint: key-value값 선언하는 것 이용하기\n",
    "\n",
    "result = {}\n",
    "\n",
    "for i in range(1, 6):\n",
    "    result[f'{i}회차'] = random.sample(random_numbers, 6)\n",
    "\n",
    "print(result)\n",
    "\n",
    "def count_man(x, y):\n",
    "    num = 0\n",
    "    for i in x:\n",
    "        if i in y:\n",
    "            num += 1\n",
    "    return num\n",
    "\n",
    "def luck(x, y, z):\n",
    "    if count_man(x, y) == 6:\n",
    "        return '1등입니다.'\n",
    "    elif count_man(x, y) == 5 and z in x:\n",
    "        return '2등입니다.'\n",
    "    elif count_man(x, y) == 5:\n",
    "        return '3등입니다.'\n",
    "    elif count_man(x, y) == 4:\n",
    "        return '4등입니다.'\n",
    "    elif count_man(x, y) == 3:\n",
    "        return '5등입니다.'\n",
    "    else:\n",
    "        return '꽝입니다.'\n",
    "\n",
    "print(luck(result, list_lotto, bonus))\n",
    "\n",
    "for i in result.values():\n",
    "    print(luck(result, list_lotto, bonus))"
   ]
  },
  {
   "cell_type": "markdown",
   "id": "8b2d1b25-87a9-4315-8754-4764eb9a7b81",
   "metadata": {},
   "source": [
    "# OOP\n",
    "\n",
    "1. 번호1에서 번호 2로 전화 걸기\n",
    "2. 빈 리스트에 데이터 추가하기\n",
    "3. 리스트에서 pop과 같은 원리 만들기"
   ]
  },
  {
   "cell_type": "code",
   "execution_count": 21,
   "id": "af78e715-850b-4128-ae7c-ae04f2f1c2f3",
   "metadata": {},
   "outputs": [],
   "source": [
    "#1\n",
    "\n",
    "class MyClass():\n",
    "    number = '010-0000-0000'\n",
    "\n",
    "    def call(self, y_number):\n",
    "        return (f'{self.number}에서 {y_number}로 전화를 거는 중')\n",
    "\n",
    "my_phone = MyClass()\n",
    "y_phone = MyClass()\n",
    "\n",
    "my_phone.number = '010-1111-1111'\n",
    "y_phone.number = '010-2222-2222'"
   ]
  },
  {
   "cell_type": "code",
   "execution_count": 22,
   "id": "36a61aa2-4508-4d52-8b78-8243e8d2009e",
   "metadata": {},
   "outputs": [
    {
     "data": {
      "text/plain": [
       "'010-1111-1111에서 010-2222-2222로 전화를 거는 중'"
      ]
     },
     "execution_count": 22,
     "metadata": {},
     "output_type": "execute_result"
    }
   ],
   "source": [
    "my_phone.call(y_phone.number)"
   ]
  },
  {
   "cell_type": "code",
   "execution_count": 35,
   "id": "d78494e4-1eca-4738-84cd-a3fb50b4af6e",
   "metadata": {},
   "outputs": [
    {
     "name": "stdout",
     "output_type": "stream",
     "text": [
      "[]\n",
      "[5]\n",
      "[5, 10]\n",
      "[5]\n"
     ]
    }
   ],
   "source": [
    "#2\n",
    "\n",
    "class MyList():\n",
    "    data = []\n",
    "\n",
    "    def append(self, item):\n",
    "        self.data = self.data + [item]\n",
    "\n",
    "    def pop(self):\n",
    "        self.data[-1]\n",
    "        self.data = self.data[:-1]\n",
    "        # [:-1]은 처음부터 마지막미만까지의 데이터를 의미하므로 리스트의 마지막 데이터를 제외한 전체 데이터를 의미\n",
    "        return self.data[-1]\n",
    "\n",
    "list_a = MyList()\n",
    "\n",
    "print(list_a.data)\n",
    "\n",
    "list_a.append(5)\n",
    "print(list_a.data)\n",
    "\n",
    "list_a.append(10)\n",
    "print(list_a.data)\n",
    "\n",
    "list_a.pop()\n",
    "print(list_a.data)"
   ]
  },
  {
   "cell_type": "markdown",
   "id": "742058fe-157c-4ec6-b25f-a3615166b73f",
   "metadata": {},
   "source": [
    "## 생성자와 소멸자\n",
    "\n",
    "1. 이름, 생성되었을 때 '생성됨', 소멸되었을 때 '소멸됨'\n",
    "2. 원의 너비, 원의 중심 위치, 이동했을 때"
   ]
  },
  {
   "cell_type": "code",
   "execution_count": 38,
   "id": "73489ceb-5680-471f-a4c0-5f71ebd1e633",
   "metadata": {},
   "outputs": [],
   "source": [
    "class Person():\n",
    "    name = ''\n",
    "    def __init__(self, name):\n",
    "        self.name = name\n",
    "        print('생성됨')\n",
    "\n",
    "    def __del__(self):\n",
    "        print('소멸됨')"
   ]
  },
  {
   "cell_type": "code",
   "execution_count": 42,
   "id": "ac67cfe4-9cbb-460f-9f35-6087ef4b447e",
   "metadata": {},
   "outputs": [
    {
     "name": "stdout",
     "output_type": "stream",
     "text": [
      "생성됨\n",
      "소멸됨\n"
     ]
    }
   ],
   "source": [
    "p1 = Person('hong')"
   ]
  },
  {
   "cell_type": "code",
   "execution_count": 61,
   "id": "8968e0ad-c9aa-444c-b2f4-6a998d67f3d4",
   "metadata": {},
   "outputs": [
    {
     "name": "stdout",
     "output_type": "stream",
     "text": [
      "28.26\n",
      "(1, 1)\n",
      "원의 중심이 (1, 1)에서 (3, 3)로 이동했습니다.\n"
     ]
    }
   ],
   "source": [
    "class Circle():\n",
    "    pi = 3.14\n",
    "\n",
    "    def __init__(self, r, x, y):\n",
    "        self.r = r\n",
    "        self.x = x\n",
    "        self.y = y\n",
    "    \n",
    "    def area(self):\n",
    "        return self.r ** 2 * self.pi\n",
    "\n",
    "    def center(self):\n",
    "        return (self.x, self.y)\n",
    "\n",
    "    def move(self, x, y):\n",
    "        return f'원의 중심이 {(self.x, self.y)}에서 {(x, y)}로 이동했습니다.'\n",
    "\n",
    "c1 = Circle(3, 1, 1)\n",
    "print(c1.area())\n",
    "print(c1.center())\n",
    "print(c1.move(3,3))"
   ]
  },
  {
   "cell_type": "code",
   "execution_count": 74,
   "id": "c1a95b76-23d6-406c-8210-a2d8b52e4e1b",
   "metadata": {},
   "outputs": [],
   "source": [
    "class Puppy():\n",
    "    name = ''\n",
    "    num_puppy = 0\n",
    "\n",
    "    def __init__(self, name):\n",
    "        self.name = name\n",
    "        Puppy.num_puppy += 1\n",
    "\n",
    "    def num_now(cls):\n",
    "        return f'현재 강아지는 {cls.num_puppy}마리입니다.'"
   ]
  },
  {
   "cell_type": "code",
   "execution_count": 75,
   "id": "f9990f5e-2f6c-479b-8ee8-d06f0c03b529",
   "metadata": {},
   "outputs": [
    {
     "data": {
      "text/plain": [
       "'현재 강아지는 3마리입니다.'"
      ]
     },
     "execution_count": 75,
     "metadata": {},
     "output_type": "execute_result"
    }
   ],
   "source": [
    "p1 = Puppy('초코')\n",
    "p2 = Puppy('까미')\n",
    "p3 = Puppy('별이')\n",
    "\n",
    "p1.num_now()"
   ]
  },
  {
   "cell_type": "code",
   "execution_count": 83,
   "id": "150a2277-53ab-4676-a37c-935641271e91",
   "metadata": {},
   "outputs": [
    {
     "data": {
      "text/plain": [
       "'안녕하세요, 홍길동입니다.'"
      ]
     },
     "execution_count": 83,
     "metadata": {},
     "output_type": "execute_result"
    }
   ],
   "source": [
    "class Person():\n",
    "    name = ''\n",
    "    number = '1'\n",
    "    def __init__(self, name):\n",
    "        self.name = name\n",
    "\n",
    "    def intro(self):\n",
    "        return f'안녕하세요, {self.name}입니다.'\n",
    "\n",
    "p1 = Person('홍길동')\n",
    "p1.intro()"
   ]
  },
  {
   "cell_type": "code",
   "execution_count": 85,
   "id": "deb10e86-5a22-4c80-805b-c37b47dd9fe7",
   "metadata": {},
   "outputs": [
    {
     "name": "stdout",
     "output_type": "stream",
     "text": [
      "충성! 홍길동입니다.\n",
      "1\n"
     ]
    }
   ],
   "source": [
    "class Soldier(Person):\n",
    "    def intro(self):\n",
    "        return f'충성! {self.name}입니다.'\n",
    "\n",
    "s1 = Soldier('홍길동')\n",
    "print(s1.intro())\n",
    "\n",
    "print(s1.number)"
   ]
  }
 ],
 "metadata": {
  "kernelspec": {
   "display_name": "Python 3 (ipykernel)",
   "language": "python",
   "name": "python3"
  },
  "language_info": {
   "codemirror_mode": {
    "name": "ipython",
    "version": 3
   },
   "file_extension": ".py",
   "mimetype": "text/x-python",
   "name": "python",
   "nbconvert_exporter": "python",
   "pygments_lexer": "ipython3",
   "version": "3.12.4"
  }
 },
 "nbformat": 4,
 "nbformat_minor": 5
}
