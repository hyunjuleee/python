{
 "cells": [
  {
   "cell_type": "markdown",
   "id": "0e42e7dc-674e-44ab-97ea-5b8d10e30019",
   "metadata": {},
   "source": [
    "# 제어문\n",
    "\n",
    "## 조건문 (if문)\n",
    "\n",
    "1. if문은 반드시 일정한 참/거짓을 판단할 수 있는 `조건식`과 함께 사용된다.\n",
    "       - (`if <조건식>:`)\n",
    "2. `<조건식>`이 참인 경우 `:`이후의 문장을 실행\n",
    "3. `<조건식>`이 거짓(False)인 경우 `else:`이후의 문장을 실행\n",
    "\n",
    "```\n",
    "if <조건식>:\n",
    "    if의 조건식이 참인 경우 실행\n",
    "else:\n",
    "    if의 조건식이 거짓인 경우 실행\n",
    "```"
   ]
  },
  {
   "cell_type": "code",
   "execution_count": 2,
   "id": "cb84529f-0443-48fc-9586-1c2aab1b69f3",
   "metadata": {},
   "outputs": [
    {
     "name": "stdin",
     "output_type": "stream",
     "text": [
      " 12/1\n"
     ]
    },
    {
     "name": "stdout",
     "output_type": "stream",
     "text": [
      "크리스마스가 아닙니다.\n"
     ]
    }
   ],
   "source": [
    "my_string = input()\n",
    "\n",
    "if my_string == '12/25':\n",
    "    print('크리스마스입니다.')\n",
    "else:\n",
    "    print('크리스마스가 아닙니다.')"
   ]
  },
  {
   "cell_type": "code",
   "execution_count": 7,
   "id": "abab74f3-7def-4401-b1e6-2aa42d73ade7",
   "metadata": {},
   "outputs": [
    {
     "name": "stdin",
     "output_type": "stream",
     "text": [
      "숫자를 입력해주세요 10\n"
     ]
    },
    {
     "name": "stdout",
     "output_type": "stream",
     "text": [
      "0\n",
      "짝수입니다.\n"
     ]
    }
   ],
   "source": [
    "num = input('숫자를 입력해주세요')\n",
    "\n",
    "result = int(num) % 2\n",
    "print(result)\n",
    "\n",
    "if bool(result):\n",
    "    print('홀수입니다.')\n",
    "else:\n",
    "    print('짝수입니다.')"
   ]
  },
  {
   "cell_type": "code",
   "execution_count": 9,
   "id": "de8c84a3-a62d-428b-9340-c4a0565e4fc1",
   "metadata": {},
   "outputs": [
    {
     "name": "stdin",
     "output_type": "stream",
     "text": [
      " 2\n"
     ]
    },
    {
     "name": "stdout",
     "output_type": "stream",
     "text": [
      "짝수입니다.\n"
     ]
    }
   ],
   "source": [
    "num = int(input())\n",
    "\n",
    "if num % 2 == 1:\n",
    "    print('홀수입니다.')\n",
    "else:\n",
    "    print('짝수입니다.')"
   ]
  },
  {
   "cell_type": "code",
   "execution_count": 12,
   "id": "e3ab033c-e300-4b69-80e3-4c25a8c06e6a",
   "metadata": {},
   "outputs": [
    {
     "name": "stdin",
     "output_type": "stream",
     "text": [
      " 123\n"
     ]
    },
    {
     "name": "stdout",
     "output_type": "stream",
     "text": [
      "홀수입니다.\n"
     ]
    }
   ],
   "source": [
    "num = int(input())\n",
    "\n",
    "if num % 2 == 0:\n",
    "    print('짝수입니다.')\n",
    "else:\n",
    "    print('홀수입니다.')"
   ]
  },
  {
   "cell_type": "code",
   "execution_count": 13,
   "id": "7f29deb0-9c7e-4447-a24e-71478d69da47",
   "metadata": {},
   "outputs": [
    {
     "name": "stdin",
     "output_type": "stream",
     "text": [
      " 123\n"
     ]
    },
    {
     "name": "stdout",
     "output_type": "stream",
     "text": [
      "홀수입니다.\n"
     ]
    }
   ],
   "source": [
    "num = int(input())\n",
    "\n",
    "if num % 2:\n",
    "    print('홀수입니다.')\n",
    "else:\n",
    "    pritn('짝수입니다.')"
   ]
  },
  {
   "cell_type": "markdown",
   "id": "093fc193-081f-4511-ac90-5ff810bc2568",
   "metadata": {},
   "source": [
    "### elif\n",
    "\n",
    "```\n",
    "if <조건식>:\n",
    "    if 조건식이 참인 경우\n",
    "elif <조건식>:\n",
    "    elif 조건식이 참인 경우\n",
    "elif <조건식>:\n",
    "    elif 조건식이 참인 경우\n",
    "else:\n",
    "    위의 조건식이 하나도 부합하지 않는 경우\n",
    "```"
   ]
  },
  {
   "cell_type": "code",
   "execution_count": 19,
   "id": "1b9cc1ec-a891-4406-9689-6b4adaf4e852",
   "metadata": {},
   "outputs": [
    {
     "name": "stdin",
     "output_type": "stream",
     "text": [
      " 79\n"
     ]
    }
   ],
   "source": [
    "score = int(input())"
   ]
  },
  {
   "cell_type": "code",
   "execution_count": 21,
   "id": "63cd7cce-075d-4d62-ac9d-85a2a4555186",
   "metadata": {},
   "outputs": [
    {
     "name": "stdout",
     "output_type": "stream",
     "text": [
      "C\n"
     ]
    }
   ],
   "source": [
    "# 90점 이상 A\n",
    "# 80~89점 B\n",
    "# 70~79점 C\n",
    "# 나머지 F\n",
    "\n",
    "if score >= 90:\n",
    "    print('A')\n",
    "elif score >= 80 and score <= 89:\n",
    "    print('B')\n",
    "elif 70 <= score <= 79:\n",
    "    print('C')\n",
    "else:\n",
    "    print('F')"
   ]
  },
  {
   "cell_type": "code",
   "execution_count": 22,
   "id": "0a3fe078-2168-4aca-8cf1-2180ca40a8b2",
   "metadata": {},
   "outputs": [
    {
     "name": "stdin",
     "output_type": "stream",
     "text": [
      " 95\n"
     ]
    }
   ],
   "source": [
    "score = int(input())"
   ]
  },
  {
   "cell_type": "code",
   "execution_count": 24,
   "id": "1c58d2e4-ad92-4ab0-8f53-2e0b67dd778e",
   "metadata": {},
   "outputs": [
    {
     "name": "stdout",
     "output_type": "stream",
     "text": [
      "A\n",
      "참 잘했어요\n"
     ]
    }
   ],
   "source": [
    "if score >= 90:\n",
    "    print('A')\n",
    "    if score >= 95:\n",
    "        print('참 잘했어요')\n",
    "elif score >= 80:\n",
    "    print('B')"
   ]
  },
  {
   "cell_type": "markdown",
   "id": "aa766a97-c07f-45c3-8177-68091c647faf",
   "metadata": {},
   "source": [
    "### 조건표현식\n",
    "\n",
    "```\n",
    "true_value if <조건식> else false_value\n",
    "```"
   ]
  },
  {
   "cell_type": "code",
   "execution_count": 26,
   "id": "1484c92a-2a56-45fb-81c0-57b5922a3939",
   "metadata": {},
   "outputs": [
    {
     "name": "stdout",
     "output_type": "stream",
     "text": [
      "False\n"
     ]
    }
   ],
   "source": [
    "print('True') if 1 < 0 else print('False')"
   ]
  },
  {
   "cell_type": "code",
   "execution_count": 27,
   "id": "a8b29b13-11a7-4cab-8444-4b18d759bed1",
   "metadata": {},
   "outputs": [
    {
     "name": "stdout",
     "output_type": "stream",
     "text": [
      "True\n"
     ]
    }
   ],
   "source": [
    "if 1 > 0:\n",
    "    print('True')\n",
    "else:\n",
    "    print('False')"
   ]
  },
  {
   "cell_type": "code",
   "execution_count": 32,
   "id": "bf978f24-6b3c-4430-b173-40093caa6b90",
   "metadata": {},
   "outputs": [
    {
     "name": "stdout",
     "output_type": "stream",
     "text": [
      "5\n"
     ]
    }
   ],
   "source": [
    "num = 5\n",
    "value = num if num >= 0 else 0\n",
    "\n",
    "print(value)"
   ]
  },
  {
   "cell_type": "code",
   "execution_count": 33,
   "id": "1bbf53f9-0ca7-4f4c-8a95-76ab051b597f",
   "metadata": {},
   "outputs": [
    {
     "name": "stdout",
     "output_type": "stream",
     "text": [
      "5\n"
     ]
    }
   ],
   "source": [
    "num = 5\n",
    "\n",
    "if num >= 0:\n",
    "    value = num\n",
    "else:\n",
    "    value = 0\n",
    "\n",
    "print(value)"
   ]
  },
  {
   "cell_type": "code",
   "execution_count": 35,
   "id": "7d9b3807-1215-40f3-afe1-2c9fd4bbba27",
   "metadata": {},
   "outputs": [
    {
     "name": "stdout",
     "output_type": "stream",
     "text": [
      "짝수\n"
     ]
    }
   ],
   "source": [
    "num = 2\n",
    "\n",
    "if num % 2:\n",
    "    result = '홀수'\n",
    "else:\n",
    "    result = '짝수'\n",
    "\n",
    "print(result)\n"
   ]
  },
  {
   "cell_type": "code",
   "execution_count": 38,
   "id": "8dabbc9f-322f-42d0-b97b-b5e7d575a619",
   "metadata": {},
   "outputs": [
    {
     "name": "stdout",
     "output_type": "stream",
     "text": [
      "짝수\n"
     ]
    }
   ],
   "source": [
    "num = 2\n",
    "result = '홀수' if num % 2 else '짝수'\n",
    "\n",
    "print(result)"
   ]
  },
  {
   "cell_type": "markdown",
   "id": "1a7a69d3-8b70-4730-a27a-27ee7bf111ab",
   "metadata": {},
   "source": [
    "## 반복문\n",
    "\n",
    "### while문\n",
    "\n",
    "```\n",
    "while <조건식>:\n",
    "    실행할 코드\n",
    "```"
   ]
  },
  {
   "cell_type": "code",
   "execution_count": 40,
   "id": "f1610c1d-1393-49ed-a26b-d30ab9d2bb10",
   "metadata": {},
   "outputs": [
    {
     "name": "stdout",
     "output_type": "stream",
     "text": [
      "0\n",
      "1\n",
      "2\n",
      "3\n",
      "4\n"
     ]
    }
   ],
   "source": [
    "a = 0\n",
    "\n",
    "while a < 5:\n",
    "    print(a)\n",
    "    a += 1"
   ]
  },
  {
   "cell_type": "code",
   "execution_count": 42,
   "id": "d7c0ee4c-c1b5-450e-a95b-f31249a2547a",
   "metadata": {},
   "outputs": [
    {
     "name": "stdin",
     "output_type": "stream",
     "text": [
      "안녕이라고 말해줘 안녕\n"
     ]
    }
   ],
   "source": [
    "greeting = ''\n",
    "\n",
    "while greeting != '안녕':\n",
    "    greeting = input('안녕이라고 말해줘')"
   ]
  },
  {
   "cell_type": "markdown",
   "id": "f78c9001-0881-45bf-a9b4-3d3933c84a51",
   "metadata": {},
   "source": [
    "### for\n",
    "\n",
    "정해진 범위 내의 반복\n",
    "```\n",
    "for variable(=item) in sequence:\n",
    "    code\n",
    "```"
   ]
  },
  {
   "cell_type": "code",
   "execution_count": 44,
   "id": "235ad01f-7ecb-4f54-a1b4-861d1d7b4aa5",
   "metadata": {},
   "outputs": [
    {
     "name": "stdout",
     "output_type": "stream",
     "text": [
      "1\n",
      "2\n",
      "3\n",
      "4\n",
      "5\n"
     ]
    }
   ],
   "source": [
    "numbers = [1, 2, 3, 4, 5]\n",
    "\n",
    "for number in numbers:\n",
    "    print(number)\n",
    "\n",
    "# number 안에 List의 각 데이터를 대입 및 출력"
   ]
  },
  {
   "cell_type": "code",
   "execution_count": 46,
   "id": "88a7e5aa-746a-441b-87a8-d18a564a52c9",
   "metadata": {},
   "outputs": [
    {
     "name": "stdin",
     "output_type": "stream",
     "text": [
      "단어를 입력해주세요 apple\n"
     ]
    },
    {
     "name": "stdout",
     "output_type": "stream",
     "text": [
      "a\n",
      "p\n",
      "p\n",
      "l\n",
      "e\n"
     ]
    }
   ],
   "source": [
    "word = input('단어를 입력해주세요')\n",
    "\n",
    "for char in word:\n",
    "    print(char)\n",
    "\n",
    "# str도 각 문자 단위로 인식"
   ]
  },
  {
   "cell_type": "code",
   "execution_count": 47,
   "id": "1bdbc583-4c93-4acf-8ca8-f0283af16ee3",
   "metadata": {},
   "outputs": [
    {
     "name": "stdout",
     "output_type": "stream",
     "text": [
      "0\n",
      "1\n",
      "2\n",
      "3\n",
      "4\n"
     ]
    }
   ],
   "source": [
    "for i in range(5):\n",
    "    print(i)"
   ]
  },
  {
   "cell_type": "code",
   "execution_count": 50,
   "id": "ead4ea97-c8c5-4030-8f19-f4bd17445ae9",
   "metadata": {},
   "outputs": [
    {
     "name": "stdout",
     "output_type": "stream",
     "text": [
      "1\n",
      "2\n",
      "3\n",
      "4\n",
      "5\n"
     ]
    }
   ],
   "source": [
    "for i in (1, 2, 3, 4, 5):\n",
    "    print(i)"
   ]
  },
  {
   "cell_type": "code",
   "execution_count": 55,
   "id": "a3d62f75-dba1-423b-b718-de4ec6dd392b",
   "metadata": {},
   "outputs": [
    {
     "name": "stdout",
     "output_type": "stream",
     "text": [
      "1\n",
      "3\n",
      "5\n",
      "7\n",
      "9\n",
      "11\n",
      "13\n",
      "15\n",
      "17\n",
      "19\n",
      "21\n",
      "23\n",
      "25\n",
      "27\n",
      "29\n",
      "1\n",
      "3\n",
      "5\n",
      "7\n",
      "9\n",
      "11\n",
      "13\n",
      "15\n",
      "17\n",
      "19\n",
      "21\n",
      "23\n",
      "25\n",
      "27\n",
      "29\n"
     ]
    }
   ],
   "source": [
    "# 1~30까지 숫자들 중에서 홀수만 출력\n",
    "\n",
    "# 내 ver\n",
    "for num in range(1, 31):\n",
    "    if num % 2 == 1:\n",
    "        print(num)\n",
    "    else:\n",
    "        0\n",
    "\n",
    "# 선생님 ver\n",
    "numbers = range(31)\n",
    "for number in numbers:\n",
    "    if number % 2:\n",
    "        print(number)"
   ]
  },
  {
   "cell_type": "markdown",
   "id": "e78641da-68aa-4c34-ba59-4dedceab6062",
   "metadata": {},
   "source": [
    "#### enumerate\n",
    "- 인덱스값이 필요할 때 활용"
   ]
  },
  {
   "cell_type": "code",
   "execution_count": 56,
   "id": "9c78dd61-f85b-44d0-b44f-47ee95cbe7b7",
   "metadata": {},
   "outputs": [
    {
     "name": "stdout",
     "output_type": "stream",
     "text": [
      "(0, '라면')\n",
      "(1, '김밥')\n",
      "(2, '백반')\n"
     ]
    }
   ],
   "source": [
    "menus = ['라면', '김밥', '백반']\n",
    "\n",
    "for menu in enumerate(menus):\n",
    "    print(menu)"
   ]
  },
  {
   "cell_type": "code",
   "execution_count": 63,
   "id": "ddd1c1f0-01e5-4d69-bf3a-bced2258766c",
   "metadata": {},
   "outputs": [
    {
     "name": "stdout",
     "output_type": "stream",
     "text": [
      "0\n",
      "라면\n",
      "1\n",
      "김밥\n",
      "2\n",
      "백반\n"
     ]
    }
   ],
   "source": [
    "for index, menu in enumerate(menus):\n",
    "    print(index)\n",
    "    print(menu)"
   ]
  },
  {
   "cell_type": "code",
   "execution_count": 64,
   "id": "842239ff-ae43-46f7-b652-5555c88fbb9d",
   "metadata": {},
   "outputs": [
    {
     "name": "stdout",
     "output_type": "stream",
     "text": [
      "1 2\n"
     ]
    }
   ],
   "source": [
    "x, y = (1, 2)\n",
    "print(x, y)"
   ]
  },
  {
   "cell_type": "markdown",
   "id": "f16e98f0-b9b5-40a1-aa3a-fdef51cab8a1",
   "metadata": {},
   "source": [
    "### dictionary 반복\n",
    "\n",
    "1. for key in dict:\n",
    "2. for key in dict.keys():\n",
    "3. for key in dict.values():\n",
    "4. for key in dict.items():\n",
    "   "
   ]
  },
  {
   "cell_type": "code",
   "execution_count": 65,
   "id": "e2dc8db6-0afc-4682-bded-a2361758c89a",
   "metadata": {},
   "outputs": [],
   "source": [
    "info = {\n",
    "    'name': 'gildong',\n",
    "    'location': 'seoul',\n",
    "    'phone': '010-1234-1234',\n",
    "    'age': 20,\n",
    "}\n",
    "\n",
    "# 쉼표 마지막에 찍는 건 다음 자료 입력을 위해"
   ]
  },
  {
   "cell_type": "code",
   "execution_count": 68,
   "id": "7d018e6b-7ff3-43db-be83-4ea623ddc505",
   "metadata": {},
   "outputs": [
    {
     "name": "stdout",
     "output_type": "stream",
     "text": [
      "name\n",
      "gildong\n",
      "location\n",
      "seoul\n",
      "phone\n",
      "010-1234-1234\n",
      "age\n",
      "20\n"
     ]
    }
   ],
   "source": [
    "for cat in info:\n",
    "    print(cat)\n",
    "    print(info[cat])"
   ]
  },
  {
   "cell_type": "code",
   "execution_count": 70,
   "id": "deab4190-b670-4433-bdb0-cf19254458ff",
   "metadata": {},
   "outputs": [
    {
     "name": "stdout",
     "output_type": "stream",
     "text": [
      "name\n",
      "gildong\n",
      "location\n",
      "seoul\n",
      "phone\n",
      "010-1234-1234\n",
      "age\n",
      "20\n"
     ]
    }
   ],
   "source": [
    "for key in info.keys():\n",
    "    print(key)\n",
    "    print(info[key])"
   ]
  },
  {
   "cell_type": "code",
   "execution_count": 73,
   "id": "923f9310-1358-458b-9575-adb0702243e1",
   "metadata": {},
   "outputs": [
    {
     "name": "stdout",
     "output_type": "stream",
     "text": [
      "gildong\n",
      "seoul\n",
      "010-1234-1234\n",
      "20\n"
     ]
    },
    {
     "data": {
      "text/plain": [
       "dict_values(['gildong', 'seoul', '010-1234-1234', 20])"
      ]
     },
     "execution_count": 73,
     "metadata": {},
     "output_type": "execute_result"
    }
   ],
   "source": [
    "for value in info.values():\n",
    "    print(value)\n",
    "\n",
    "info.values()"
   ]
  },
  {
   "cell_type": "code",
   "execution_count": 75,
   "id": "46e8388e-5033-44b0-8248-446383a1676f",
   "metadata": {},
   "outputs": [
    {
     "name": "stdout",
     "output_type": "stream",
     "text": [
      "name gildong\n",
      "location seoul\n",
      "phone 010-1234-1234\n",
      "age 20\n"
     ]
    }
   ],
   "source": [
    "for key, value in info.items():\n",
    "    print(key, value)"
   ]
  },
  {
   "cell_type": "code",
   "execution_count": 76,
   "id": "03f535a5-fb26-4ce5-9235-a7dafae7833a",
   "metadata": {},
   "outputs": [],
   "source": [
    "blood_type = {\n",
    "    'A': 5,\n",
    "    'B': 3,\n",
    "    'O': 2,\n",
    "    'AB': 2,\n",
    "}"
   ]
  },
  {
   "cell_type": "code",
   "execution_count": 83,
   "id": "0db91a74-d97b-45bd-87b1-107f9d2a3755",
   "metadata": {},
   "outputs": [
    {
     "name": "stdout",
     "output_type": "stream",
     "text": [
      "혈액형의 종류는 A B O AB 입니다.\n"
     ]
    }
   ],
   "source": [
    "# 혈액형의 종류는 ?? ?? 입니다.\n",
    "# end 프린트 문이 끝날 때 어떻게 끝날지 결정\n",
    "# 원래 print 문의 맨 뒤는 /n이 포함 (이스케이프 문자)\n",
    "print('혈액형의 종류는', end=' ')\n",
    "for key in blood_type.keys():\n",
    "    print(key, end=' ')\n",
    "print('입니다.')"
   ]
  },
  {
   "cell_type": "code",
   "execution_count": 92,
   "id": "50ddcc80-93f0-46cd-bf2f-474857a59325",
   "metadata": {},
   "outputs": [
    {
     "name": "stdout",
     "output_type": "stream",
     "text": [
      "총 학생수는 12명입니다.\n"
     ]
    }
   ],
   "source": [
    "# 총 학생수는 n명입니다.\n",
    "result = 0 # 빈 박스 만들기 (임시 저장소)\n",
    "for value in blood_type.values():\n",
    "    result = result + value\n",
    "print(f'총 학생수는 {result}명입니다.')"
   ]
  },
  {
   "cell_type": "markdown",
   "id": "dd77922f-f88a-4830-a341-d4f1c8ea6341",
   "metadata": {},
   "source": [
    "### break\n",
    "반복문을 종료하는 키워드\n",
    "if와 같이 사용"
   ]
  },
  {
   "cell_type": "code",
   "execution_count": 95,
   "id": "c6aa221a-e26c-409a-9fcc-4bf7a4957e98",
   "metadata": {},
   "outputs": [
    {
     "name": "stdout",
     "output_type": "stream",
     "text": [
      "0\n",
      "1\n",
      "2\n",
      "3\n",
      "4\n",
      "5\n",
      "6\n",
      "7\n",
      "8\n",
      "9\n",
      "10\n"
     ]
    }
   ],
   "source": [
    "for i in range(100):\n",
    "    if i > 10:\n",
    "        break\n",
    "    print(i)"
   ]
  },
  {
   "cell_type": "code",
   "execution_count": 105,
   "id": "7691ba53-16f9-41db-aa2c-d09f1b9afba1",
   "metadata": {},
   "outputs": [
    {
     "name": "stdout",
     "output_type": "stream",
     "text": [
      "보리\n",
      "보리\n",
      "보리\n",
      "보리\n",
      "쌀\n",
      "잡았다\n"
     ]
    }
   ],
   "source": [
    "rice = ['보리', '보리', '보리', '보리', '쌀', '보리']\n",
    "\n",
    "for r in rice:\n",
    "    print(r)\n",
    "    if r == '쌀':\n",
    "        print('잡았다')\n",
    "        break\n",
    "\n",
    "for r in rice:\n",
    "    print(r)\n",
    "    if r == '쌀':\n",
    "        print('잡았다')\n",
    "        break # 쌀 이후에는 출력x"
   ]
  },
  {
   "cell_type": "code",
   "execution_count": 5,
   "id": "e86e17fd-8bbc-442e-8fe4-664cd3f0eb3e",
   "metadata": {},
   "outputs": [
    {
     "name": "stdout",
     "output_type": "stream",
     "text": [
      "보리\n",
      "보리\n",
      "보리\n",
      "보리\n",
      "잡았다\n"
     ]
    }
   ],
   "source": [
    "rice = ['보리', '보리', '보리', '보리', '쌀', '보리']\n",
    "\n",
    "i = 0\n",
    "\n",
    "while True:\n",
    "    if rice[i] == '쌀':\n",
    "        print('잡았다')\n",
    "        break\n",
    "    print(rice[i])\n",
    "    i += 1"
   ]
  },
  {
   "cell_type": "code",
   "execution_count": 4,
   "id": "7e372b7f-29ec-4c74-8d7c-61596f50553a",
   "metadata": {},
   "outputs": [
    {
     "name": "stdout",
     "output_type": "stream",
     "text": [
      "보리\n",
      "보리\n",
      "보리\n",
      "보리\n",
      "쌀\n",
      "잡았다\n"
     ]
    }
   ],
   "source": [
    "rice = ['보리', '보리', '보리', '보리', '쌀', '보리']\n",
    "\n",
    "i = 0\n",
    "\n",
    "while True:\n",
    "    print(rice[i])\n",
    "    if rice[i] == '쌀':\n",
    "        print('잡았다')\n",
    "        break\n",
    "    i += 1"
   ]
  },
  {
   "cell_type": "markdown",
   "id": "d44b40c2-c9fc-436d-92d8-ad374ca24a93",
   "metadata": {},
   "source": [
    "### continue\n",
    "\n",
    "continue 이후의 코드를 실행하지 않고 반복을 진행 (=skip)"
   ]
  },
  {
   "cell_type": "code",
   "execution_count": 108,
   "id": "1e17799a-d590-4fc4-bc5b-91f9784b850c",
   "metadata": {},
   "outputs": [
    {
     "name": "stdout",
     "output_type": "stream",
     "text": [
      "0\n",
      "2\n",
      "4\n",
      "6\n",
      "8\n",
      "10\n",
      "12\n",
      "14\n",
      "16\n",
      "18\n"
     ]
    }
   ],
   "source": [
    "for i in range(20):\n",
    "    if i % 2:\n",
    "        continue\n",
    "    print(i)"
   ]
  },
  {
   "cell_type": "code",
   "execution_count": 116,
   "id": "7bc90beb-184d-430a-90e7-66d1a310ee5d",
   "metadata": {},
   "outputs": [
    {
     "name": "stdout",
     "output_type": "stream",
     "text": [
      "38살은 성인입니다.\n",
      "82살은 성인입니다.\n",
      "39살은 성인입니다.\n"
     ]
    }
   ],
   "source": [
    "ages = [10, 20, 38, 82, 11, 13, 39]\n",
    "\n",
    "for age in ages:\n",
    "    if age <= 20:\n",
    "        continue\n",
    "    print(f'{age}살은 성인입니다.')"
   ]
  },
  {
   "cell_type": "markdown",
   "id": "aad509e5-2c3c-4a10-b5e8-a6135d8fbcb1",
   "metadata": {},
   "source": [
    "### else\n",
    "\n",
    "else문은 `끝까지` 반복된 후 실행됩니다.\n",
    "break를 만나지 않았을 때 실행됩니다."
   ]
  },
  {
   "cell_type": "code",
   "execution_count": 115,
   "id": "ea45dbc8-c329-4fe1-95de-fc8b133ba02a",
   "metadata": {},
   "outputs": [
    {
     "name": "stdout",
     "output_type": "stream",
     "text": [
      "0\n",
      "1\n",
      "2\n",
      "3\n",
      "4\n",
      "5\n",
      "6\n",
      "7\n",
      "8\n",
      "9\n",
      "else입니다.\n"
     ]
    }
   ],
   "source": [
    "for i in range(10):\n",
    "    print(i)\n",
    "else:\n",
    "    print('else입니다.')"
   ]
  },
  {
   "cell_type": "code",
   "execution_count": 118,
   "id": "dccb7cf3-bf71-4b7e-a116-8f488fb819ac",
   "metadata": {},
   "outputs": [
    {
     "name": "stdout",
     "output_type": "stream",
     "text": [
      "0\n",
      "1\n",
      "2\n",
      "3\n",
      "4\n",
      "5\n"
     ]
    }
   ],
   "source": [
    "for i in range(10):\n",
    "    if i > 5:\n",
    "        break\n",
    "    print(i)\n",
    "else:\n",
    "    print('else입니다.')"
   ]
  },
  {
   "cell_type": "markdown",
   "id": "ed103cae-ed06-465a-acef-91210737ae8f",
   "metadata": {},
   "source": [
    "### pass\n",
    "규격만 맞추고 코드는 나중에 쓸 때 (코드 패스)"
   ]
  },
  {
   "cell_type": "code",
   "execution_count": 120,
   "id": "41803ee7-fffa-4fdb-bf76-c2d306eb7e0c",
   "metadata": {},
   "outputs": [],
   "source": [
    "if True:\n",
    "    pass"
   ]
  },
  {
   "cell_type": "markdown",
   "id": "8838700a-88f6-4fe6-9143-588fe0e1ebea",
   "metadata": {},
   "source": [
    "### match\n",
    "\n",
    "```\n",
    "match value:\n",
    "    case 조건:\n",
    "        code\n",
    "    case 조건:\n",
    "        code\n",
    "    case _:\n",
    "        code"
   ]
  },
  {
   "cell_type": "code",
   "execution_count": 121,
   "id": "e388f6d8-8105-45de-b13c-28a5766ed24d",
   "metadata": {},
   "outputs": [
    {
     "name": "stdout",
     "output_type": "stream",
     "text": [
      "bad\n"
     ]
    }
   ],
   "source": [
    "status = 404\n",
    "\n",
    "match status:\n",
    "    case 200:\n",
    "        print('ok')\n",
    "    case 404:\n",
    "        print('bad')\n",
    "    case _:\n",
    "        print('idk')"
   ]
  }
 ],
 "metadata": {
  "kernelspec": {
   "display_name": "Python 3 (ipykernel)",
   "language": "python",
   "name": "python3"
  },
  "language_info": {
   "codemirror_mode": {
    "name": "ipython",
    "version": 3
   },
   "file_extension": ".py",
   "mimetype": "text/x-python",
   "name": "python",
   "nbconvert_exporter": "python",
   "pygments_lexer": "ipython3",
   "version": "3.12.4"
  }
 },
 "nbformat": 4,
 "nbformat_minor": 5
}
