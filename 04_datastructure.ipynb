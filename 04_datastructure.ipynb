{
 "cells": [
  {
   "cell_type": "code",
   "execution_count": 4,
   "id": "77313aa8-a0de-4928-94fa-32f73a124eb0",
   "metadata": {},
   "outputs": [
    {
     "name": "stdout",
     "output_type": "stream",
     "text": [
      "['__add__', '__class__', '__contains__', '__delattr__', '__dir__', '__doc__', '__eq__', '__format__', '__ge__', '__getattribute__', '__getitem__', '__getnewargs__', '__getstate__', '__gt__', '__hash__', '__init__', '__init_subclass__', '__iter__', '__le__', '__len__', '__lt__', '__mod__', '__mul__', '__ne__', '__new__', '__reduce__', '__reduce_ex__', '__repr__', '__rmod__', '__rmul__', '__setattr__', '__sizeof__', '__str__', '__subclasshook__', 'capitalize', 'casefold', 'center', 'count', 'encode', 'endswith', 'expandtabs', 'find', 'format', 'format_map', 'index', 'isalnum', 'isalpha', 'isascii', 'isdecimal', 'isdigit', 'isidentifier', 'islower', 'isnumeric', 'isprintable', 'isspace', 'istitle', 'isupper', 'join', 'ljust', 'lower', 'lstrip', 'maketrans', 'partition', 'removeprefix', 'removesuffix', 'replace', 'rfind', 'rindex', 'rjust', 'rpartition', 'rsplit', 'rstrip', 'split', 'splitlines', 'startswith', 'strip', 'swapcase', 'title', 'translate', 'upper', 'zfill']\n"
     ]
    }
   ],
   "source": [
    "print(dir('hello'))"
   ]
  },
  {
   "cell_type": "markdown",
   "id": "a68690e5-8d2d-4b94-98dc-c8be1cc1c7cf",
   "metadata": {},
   "source": [
    "## 문자열 메소드 = (함수)"
   ]
  },
  {
   "cell_type": "code",
   "execution_count": 6,
   "id": "4506acc8-b63e-4591-bdbc-b05aa6c9f17d",
   "metadata": {},
   "outputs": [],
   "source": [
    "a = 'hello my name is hong'"
   ]
  },
  {
   "cell_type": "code",
   "execution_count": 7,
   "id": "4896ff87-ed95-4005-89bc-c61a3e1de529",
   "metadata": {},
   "outputs": [
    {
     "name": "stdout",
     "output_type": "stream",
     "text": [
      "hello my name is hong\n"
     ]
    }
   ],
   "source": [
    "print(a)"
   ]
  },
  {
   "cell_type": "code",
   "execution_count": 8,
   "id": "4b658238-de45-4262-a0b4-6875991b5c15",
   "metadata": {},
   "outputs": [
    {
     "ename": "TypeError",
     "evalue": "'str' object does not support item assignment",
     "output_type": "error",
     "traceback": [
      "\u001b[1;31m---------------------------------------------------------------------------\u001b[0m",
      "\u001b[1;31mTypeError\u001b[0m                                 Traceback (most recent call last)",
      "Cell \u001b[1;32mIn[8], line 1\u001b[0m\n\u001b[1;32m----> 1\u001b[0m \u001b[43ma\u001b[49m\u001b[43m[\u001b[49m\u001b[38;5;241;43m0\u001b[39;49m\u001b[43m]\u001b[49m \u001b[38;5;241m=\u001b[39m \u001b[38;5;124m'\u001b[39m\u001b[38;5;124mH\u001b[39m\u001b[38;5;124m'\u001b[39m\n",
      "\u001b[1;31mTypeError\u001b[0m: 'str' object does not support item assignment"
     ]
    }
   ],
   "source": [
    "a[0] = 'H'"
   ]
  },
  {
   "cell_type": "code",
   "execution_count": 11,
   "id": "4f1e6280-f4e7-42a4-8a23-6fc1ea99fb98",
   "metadata": {},
   "outputs": [
    {
     "data": {
      "text/plain": [
       "'Hello my name is hong'"
      ]
     },
     "execution_count": 11,
     "metadata": {},
     "output_type": "execute_result"
    }
   ],
   "source": [
    "a.capitalize()"
   ]
  },
  {
   "cell_type": "code",
   "execution_count": 12,
   "id": "e56d9501-e18b-4321-a297-25562b057a7f",
   "metadata": {},
   "outputs": [
    {
     "data": {
      "text/plain": [
       "'Hello My Name Is Hong'"
      ]
     },
     "execution_count": 12,
     "metadata": {},
     "output_type": "execute_result"
    }
   ],
   "source": [
    "a.title()"
   ]
  },
  {
   "cell_type": "code",
   "execution_count": 15,
   "id": "025f8291-6e01-4117-b349-72bd3da0cd5d",
   "metadata": {},
   "outputs": [
    {
     "data": {
      "text/plain": [
       "'hello my name is hong'"
      ]
     },
     "execution_count": 15,
     "metadata": {},
     "output_type": "execute_result"
    }
   ],
   "source": [
    "a.lower()"
   ]
  },
  {
   "cell_type": "code",
   "execution_count": 16,
   "id": "453000b4-b513-4bb9-8b5d-f7d2b1a0c6a7",
   "metadata": {},
   "outputs": [
    {
     "data": {
      "text/plain": [
       "'HELLO MY NAME IS HONG'"
      ]
     },
     "execution_count": 16,
     "metadata": {},
     "output_type": "execute_result"
    }
   ],
   "source": [
    "a.upper()"
   ]
  },
  {
   "cell_type": "code",
   "execution_count": 68,
   "id": "469cab17-ddba-4355-8e4b-558511786759",
   "metadata": {},
   "outputs": [
    {
     "name": "stdout",
     "output_type": "stream",
     "text": [
      "woooooooooo\n"
     ]
    }
   ],
   "source": [
    "print(a)\n",
    "# 원본 데이터를 바꾸는 게 아님\n",
    "# 바꾸고 싶을 경우, a = a.upper() >재할당"
   ]
  },
  {
   "cell_type": "code",
   "execution_count": 21,
   "id": "e290da55-5ebb-40bf-9e2e-e5cc27e2d1c8",
   "metadata": {},
   "outputs": [
    {
     "name": "stdout",
     "output_type": "stream",
     "text": [
      "HELLO MY NAME IS HONG\n"
     ]
    }
   ],
   "source": [
    "a = a.upper()\n",
    "print(a)"
   ]
  },
  {
   "cell_type": "code",
   "execution_count": 28,
   "id": "6961ea0b-8288-417c-b7b0-637e760f0679",
   "metadata": {},
   "outputs": [
    {
     "data": {
      "text/plain": [
       "'my!name!is'"
      ]
     },
     "execution_count": 28,
     "metadata": {},
     "output_type": "execute_result"
    }
   ],
   "source": [
    "my_list = ['my', 'name', 'is']\n",
    "'!'.join(my_list) # ''안에 들어가는 건 각 데이터들 사이에 들어갈 문자\n",
    "#print(''.join(my_list))"
   ]
  },
  {
   "cell_type": "code",
   "execution_count": 35,
   "id": "972173ac-7c94-4dd5-ac50-980b22247bf6",
   "metadata": {},
   "outputs": [
    {
     "name": "stdout",
     "output_type": "stream",
     "text": [
      "      hello   \n",
      "    \n",
      "--------------------hello-----\n"
     ]
    }
   ],
   "source": [
    "my_string = '      hello   \\n    '\n",
    "print(my_string)\n",
    "\n",
    "my_string2 = '--------------------hello-----'\n",
    "print(my_string2)"
   ]
  },
  {
   "cell_type": "code",
   "execution_count": 45,
   "id": "ce2a652f-701d-486d-b9e0-a7c132f2cc6d",
   "metadata": {},
   "outputs": [
    {
     "data": {
      "text/plain": [
       "'hello'"
      ]
     },
     "execution_count": 45,
     "metadata": {},
     "output_type": "execute_result"
    }
   ],
   "source": [
    "my_string.strip()"
   ]
  },
  {
   "cell_type": "code",
   "execution_count": 46,
   "id": "8970f3c4-4316-477f-adcc-23adf219d65b",
   "metadata": {},
   "outputs": [
    {
     "name": "stdout",
     "output_type": "stream",
     "text": [
      "hello\n",
      "hello-----\n",
      "--------------------hello\n"
     ]
    }
   ],
   "source": [
    "print(my_string2.strip('-'))\n",
    "print(my_string2.lstrip('-'))\n",
    "print(my_string2.rstrip('-'))"
   ]
  },
  {
   "cell_type": "code",
   "execution_count": 51,
   "id": "23c2eff5-cd0a-495e-bedb-581be0044ab5",
   "metadata": {},
   "outputs": [
    {
     "data": {
      "text/plain": [
       "'w?????ow'"
      ]
     },
     "execution_count": 51,
     "metadata": {},
     "output_type": "execute_result"
    }
   ],
   "source": [
    "a = 'woooooow'\n",
    "a.replace('o', '?', 5)"
   ]
  },
  {
   "cell_type": "code",
   "execution_count": 53,
   "id": "fef534ef-8145-4a68-81f3-91545b0eefaf",
   "metadata": {},
   "outputs": [
    {
     "name": "stdout",
     "output_type": "stream",
     "text": [
      "0\n",
      "3\n",
      "-1\n"
     ]
    }
   ],
   "source": [
    "a = 'apple'\n",
    "print(a.find('a'))\n",
    "print(a.find('l'))\n",
    "print(a.find('z'))"
   ]
  },
  {
   "cell_type": "code",
   "execution_count": 56,
   "id": "c547609c-6496-46de-ba81-e0a4f052b1b1",
   "metadata": {},
   "outputs": [
    {
     "name": "stdout",
     "output_type": "stream",
     "text": [
      "0\n",
      "1\n"
     ]
    },
    {
     "ename": "ValueError",
     "evalue": "substring not found",
     "output_type": "error",
     "traceback": [
      "\u001b[1;31m---------------------------------------------------------------------------\u001b[0m",
      "\u001b[1;31mValueError\u001b[0m                                Traceback (most recent call last)",
      "Cell \u001b[1;32mIn[56], line 4\u001b[0m\n\u001b[0;32m      2\u001b[0m \u001b[38;5;28mprint\u001b[39m(a\u001b[38;5;241m.\u001b[39mindex(\u001b[38;5;124m'\u001b[39m\u001b[38;5;124ma\u001b[39m\u001b[38;5;124m'\u001b[39m))\n\u001b[0;32m      3\u001b[0m \u001b[38;5;28mprint\u001b[39m(a\u001b[38;5;241m.\u001b[39mindex(\u001b[38;5;124m'\u001b[39m\u001b[38;5;124mp\u001b[39m\u001b[38;5;124m'\u001b[39m))\n\u001b[1;32m----> 4\u001b[0m \u001b[38;5;28mprint\u001b[39m(\u001b[43ma\u001b[49m\u001b[38;5;241;43m.\u001b[39;49m\u001b[43mindex\u001b[49m\u001b[43m(\u001b[49m\u001b[38;5;124;43m'\u001b[39;49m\u001b[38;5;124;43mz\u001b[39;49m\u001b[38;5;124;43m'\u001b[39;49m\u001b[43m)\u001b[49m)\n",
      "\u001b[1;31mValueError\u001b[0m: substring not found"
     ]
    }
   ],
   "source": [
    "a = 'apple'\n",
    "print(a.index('a'))\n",
    "print(a.index('p'))\n",
    "print(a.index('z'))"
   ]
  },
  {
   "cell_type": "code",
   "execution_count": 62,
   "id": "17188dbd-4466-40c8-98e3-769367beed67",
   "metadata": {},
   "outputs": [
    {
     "data": {
      "text/plain": [
       "['my', 'name', 'is', 'hong']"
      ]
     },
     "execution_count": 62,
     "metadata": {},
     "output_type": "execute_result"
    }
   ],
   "source": [
    "a = 'my name is hong'\n",
    "a.split()"
   ]
  },
  {
   "cell_type": "code",
   "execution_count": 66,
   "id": "96f96943-add0-422a-81df-fba42eefed92",
   "metadata": {},
   "outputs": [
    {
     "data": {
      "text/plain": [
       "['my', 'name', 'is', 'hong']"
      ]
     },
     "execution_count": 66,
     "metadata": {},
     "output_type": "execute_result"
    }
   ],
   "source": [
    "a = 'my_name_is_hong'\n",
    "a.split('_')"
   ]
  },
  {
   "cell_type": "code",
   "execution_count": 67,
   "id": "44cf978a-468b-4f9d-929f-7c31dedf06c9",
   "metadata": {},
   "outputs": [
    {
     "data": {
      "text/plain": [
       "10"
      ]
     },
     "execution_count": 67,
     "metadata": {},
     "output_type": "execute_result"
    }
   ],
   "source": [
    "a = 'woooooooooo'\n",
    "a.count('o')"
   ]
  },
  {
   "cell_type": "markdown",
   "id": "c7d0eaf3-3120-46a6-b012-7df39fe0431f",
   "metadata": {},
   "source": [
    "## 리스트 메소드"
   ]
  },
  {
   "cell_type": "code",
   "execution_count": 69,
   "id": "8f4ceb57-9857-4a35-8386-7ee7994b0e90",
   "metadata": {},
   "outputs": [],
   "source": [
    "numbers = [1, 4, 3, 6, 8, 9, 3]"
   ]
  },
  {
   "cell_type": "code",
   "execution_count": 73,
   "id": "1536d1ec-4849-4a0f-be3f-b5f747997e87",
   "metadata": {},
   "outputs": [
    {
     "name": "stdout",
     "output_type": "stream",
     "text": [
      "[1, 4, 3, 6, 8, 9, 3, 10, 99, 100, 10]\n"
     ]
    }
   ],
   "source": [
    "numbers.append(10) # append는 무조건 맨 뒤에 배치\n",
    "print(numbers)"
   ]
  },
  {
   "cell_type": "code",
   "execution_count": 71,
   "id": "6e01c163-5759-49bf-90d4-95aaafd031a5",
   "metadata": {},
   "outputs": [
    {
     "name": "stdout",
     "output_type": "stream",
     "text": [
      "[1, 4, 3, 6, 8, 9, 3, 10, 99, 100]\n"
     ]
    }
   ],
   "source": [
    "a = [99, 100]\n",
    "numbers.extend(a)\n",
    "print(numbers)"
   ]
  },
  {
   "cell_type": "code",
   "execution_count": 72,
   "id": "9dc01ff6-27ad-4c77-8c73-f9969790481f",
   "metadata": {},
   "outputs": [
    {
     "name": "stdout",
     "output_type": "stream",
     "text": [
      "[1, 4, 3, 6, 8, 9, 3, 10, 99, 100, 99, 100]\n"
     ]
    }
   ],
   "source": [
    "print(numbers + a)"
   ]
  },
  {
   "cell_type": "code",
   "execution_count": 75,
   "id": "317b661c-88d0-4e42-bbcd-be7d94469dce",
   "metadata": {},
   "outputs": [
    {
     "name": "stdout",
     "output_type": "stream",
     "text": [
      "[-10, 1, 4, 3, 6, -10, 8, 9, 3, 10, 99, 100, 10]\n"
     ]
    }
   ],
   "source": [
    "numbers.insert(5, -10)\n",
    "print(numbers)"
   ]
  },
  {
   "cell_type": "code",
   "execution_count": 8,
   "id": "60856fbc-d25b-4dfe-97d2-867f812a6651",
   "metadata": {},
   "outputs": [
    {
     "name": "stdout",
     "output_type": "stream",
     "text": [
      "[1, 4, 3, 6, -10, 8, 9, 3, 10, 99, 100, 10]\n"
     ]
    }
   ],
   "source": [
    "# x를 찾아서 제거, 없으면 에러 발생\n",
    "numbers = [-10, 1, 4, 3, 6, -10, 8, 9, 3, 10, 99, 100, 10]\n",
    "numbers.remove(-10)\n",
    "print(numbers)"
   ]
  },
  {
   "cell_type": "code",
   "execution_count": 28,
   "id": "bf5f9757-9922-4d69-9899-a7c904648201",
   "metadata": {},
   "outputs": [
    {
     "name": "stdout",
     "output_type": "stream",
     "text": [
      "[-10, 1, 3, 3, 4, 6, 8, 9]\n"
     ]
    }
   ],
   "source": [
    "numbers.pop() # 맨 마지막 데이터 뽑기, 맨 앞 부터 뽑으려면 0 부여\n",
    "print(numbers)"
   ]
  },
  {
   "cell_type": "code",
   "execution_count": 25,
   "id": "55859f2c-afc2-464d-8359-34b6d00857a4",
   "metadata": {},
   "outputs": [
    {
     "name": "stdout",
     "output_type": "stream",
     "text": [
      "[1, 4, 3, 6, -10, 8, 9, 3, 10] 99\n"
     ]
    }
   ],
   "source": [
    "numbers = [1, 4, 3, 6, -10, 8, 9, 3, 10, 99]\n",
    "result = numbers.pop()\n",
    "print(numbers, result)"
   ]
  },
  {
   "cell_type": "code",
   "execution_count": 27,
   "id": "8467e927-a852-4cd1-b964-161170ca8978",
   "metadata": {},
   "outputs": [
    {
     "name": "stdout",
     "output_type": "stream",
     "text": [
      "[-10, 1, 3, 3, 4, 6, 8, 9, 10]\n"
     ]
    }
   ],
   "source": [
    "numbers.sort() # 오름차순 정렬\n",
    "print(numbers)"
   ]
  },
  {
   "cell_type": "code",
   "execution_count": 30,
   "id": "5d54445d-ed82-41c8-a302-dea6e23631b7",
   "metadata": {},
   "outputs": [
    {
     "name": "stdout",
     "output_type": "stream",
     "text": [
      "[9, 8, 6, 4, 3, 3, 1, -10]\n"
     ]
    }
   ],
   "source": [
    "numbers.sort(reverse=True) # 내림차순 정렬\n",
    "print(numbers)"
   ]
  },
  {
   "cell_type": "code",
   "execution_count": 34,
   "id": "fea7ab4b-2ef6-4933-b5b3-2bd140690887",
   "metadata": {},
   "outputs": [
    {
     "name": "stdout",
     "output_type": "stream",
     "text": [
      "[1, 2, 3, 3, 5, 7, 8]\n",
      "[5, 3, 7, 1, 8, 2, 3]\n"
     ]
    }
   ],
   "source": [
    "numbers = [5, 3, 7, 1, 8, 2, 3]\n",
    "\n",
    "print(sorted(numbers))\n",
    "print(numbers) # sorted는 배열 모습을 알려줌 (원본데이터 자체 정렬x, 원본 데이터 정렬은 sort)\n",
    "# 문자도 정렬 가느으응"
   ]
  },
  {
   "cell_type": "code",
   "execution_count": 36,
   "id": "09f3ec3b-5ae0-49ab-97e7-2acdf93e0d51",
   "metadata": {},
   "outputs": [
    {
     "name": "stdout",
     "output_type": "stream",
     "text": [
      "[5, 3, 7, 1, 8, 2, 3]\n",
      "[3, 2, 8, 1, 7, 3, 5]\n"
     ]
    }
   ],
   "source": [
    "print(numbers)\n",
    "numbers.reverse()\n",
    "print(numbers)"
   ]
  },
  {
   "cell_type": "code",
   "execution_count": 43,
   "id": "f4d472bc-1773-45fd-9fd3-04bd3919b924",
   "metadata": {},
   "outputs": [
    {
     "name": "stdout",
     "output_type": "stream",
     "text": [
      "[2, 8]\n",
      "3\n",
      "[3, 2, 8, 1, 7, 3, 5]\n",
      "[5, 3, 7, 1, 8, 2, 3]\n"
     ]
    }
   ],
   "source": [
    "print(numbers[1:3])\n",
    "print(numbers[-2])\n",
    "print(numbers[:])\n",
    "print(numbers[::-1]) # = reverse"
   ]
  },
  {
   "cell_type": "markdown",
   "id": "3a13b041-21f9-4c02-affe-7b7d4f4da033",
   "metadata": {},
   "source": [
    "## list copy"
   ]
  },
  {
   "cell_type": "code",
   "execution_count": 44,
   "id": "f77f5470-16c7-4962-b17b-113dc1c7d354",
   "metadata": {},
   "outputs": [],
   "source": [
    "origin_list = [1, 2, 3]\n",
    "copy_list = origin_list"
   ]
  },
  {
   "cell_type": "code",
   "execution_count": 45,
   "id": "41bc2b07-a702-4be6-8efa-9e22442533cc",
   "metadata": {},
   "outputs": [
    {
     "name": "stdout",
     "output_type": "stream",
     "text": [
      "[1, 2, 3]\n",
      "[1, 2, 3]\n"
     ]
    }
   ],
   "source": [
    "print(origin_list)\n",
    "print(copy_list)"
   ]
  },
  {
   "cell_type": "code",
   "execution_count": 46,
   "id": "7d5fb156-87b5-4808-af70-5ef55860c1a3",
   "metadata": {},
   "outputs": [],
   "source": [
    "origin_list[0] = 100"
   ]
  },
  {
   "cell_type": "code",
   "execution_count": 47,
   "id": "9f776a39-0d8b-45fa-aa72-334fa0e6836d",
   "metadata": {},
   "outputs": [
    {
     "name": "stdout",
     "output_type": "stream",
     "text": [
      "[100, 2, 3]\n",
      "[100, 2, 3]\n"
     ]
    }
   ],
   "source": [
    "print(origin_list)\n",
    "print(copy_list)"
   ]
  },
  {
   "cell_type": "code",
   "execution_count": 50,
   "id": "803c88f3-b563-4c11-82e2-6696068fe9ab",
   "metadata": {},
   "outputs": [
    {
     "name": "stdout",
     "output_type": "stream",
     "text": [
      "[100, 2, 3]\n",
      "[1, 2, 3]\n"
     ]
    }
   ],
   "source": [
    "origin_list = [1, 2, 3]\n",
    "copy_list = origin_list[:] # 주소가 아닌 값을 가져가 새로 저장, 원본과 구분\n",
    "\n",
    "origin_list[0] = 100\n",
    "\n",
    "print(origin_list)\n",
    "print(copy_list)"
   ]
  },
  {
   "cell_type": "code",
   "execution_count": 54,
   "id": "164b0f4d-6b8e-406b-a3fc-567c5602803b",
   "metadata": {},
   "outputs": [
    {
     "name": "stdout",
     "output_type": "stream",
     "text": [
      "[100, 2, [300, 4]]\n",
      "[1, 2, [300, 4]]\n"
     ]
    }
   ],
   "source": [
    "origin_list = [1, 2, [3, 4]]\n",
    "copy_list = origin_list[:] # 슬라이싱한 범위에서만 / deep x\n",
    "\n",
    "origin_list[0] = 100\n",
    "origin_list[2][0] = 300\n",
    "\n",
    "print(origin_list)\n",
    "print(copy_list)"
   ]
  },
  {
   "cell_type": "code",
   "execution_count": 55,
   "id": "e9d32205-6158-41fc-8b9f-e9cde9933877",
   "metadata": {},
   "outputs": [
    {
     "name": "stdout",
     "output_type": "stream",
     "text": [
      "[100, 2, [300, 4]]\n",
      "[1, 2, [3, 4]]\n"
     ]
    }
   ],
   "source": [
    "import copy\n",
    "origin_list = [1, 2, [3, 4]]\n",
    "copy_list = copy.deepcopy(origin_list)\n",
    "\n",
    "origin_list[0] = 100\n",
    "origin_list[2][0] = 300\n",
    "\n",
    "print(origin_list)\n",
    "print(copy_list)"
   ]
  },
  {
   "cell_type": "markdown",
   "id": "29de0be0-3e0b-4476-bdcc-6f1073b798a5",
   "metadata": {},
   "source": [
    "## list comprehension"
   ]
  },
  {
   "cell_type": "code",
   "execution_count": 57,
   "id": "6141d49a-cedc-4671-b9e0-8dd9727c47d3",
   "metadata": {},
   "outputs": [
    {
     "name": "stdout",
     "output_type": "stream",
     "text": [
      "[1, 2, 3, 4, 5, 6, 7, 8, 9, 10]\n"
     ]
    }
   ],
   "source": [
    "numbers = list(range(1, 11))\n",
    "print(numbers)"
   ]
  },
  {
   "cell_type": "code",
   "execution_count": 65,
   "id": "bd21beb4-5ab0-4e35-983b-61d000f65c03",
   "metadata": {},
   "outputs": [
    {
     "name": "stdout",
     "output_type": "stream",
     "text": [
      "[1, 8, 27, 64, 125, 216, 343, 512, 729, 1000]\n"
     ]
    }
   ],
   "source": [
    "result = []\n",
    "\n",
    "for i in numbers:\n",
    "    temp = i ** 3\n",
    "    result.append(temp)\n",
    "print(result)"
   ]
  },
  {
   "cell_type": "code",
   "execution_count": 68,
   "id": "5abe41a9-4272-4bce-9719-8fa313759574",
   "metadata": {},
   "outputs": [
    {
     "name": "stdout",
     "output_type": "stream",
     "text": [
      "[1, 8, 27, 64, 125, 216, 343, 512, 729, 1000]\n"
     ]
    }
   ],
   "source": [
    "result = [i ** 3 for i in numbers]\n",
    "# result = [i1 ** 3, i2 ** 3, i3 ** 3 ........]\n",
    "print(result)"
   ]
  },
  {
   "cell_type": "code",
   "execution_count": 71,
   "id": "8de5bd7b-e9bb-483c-a8e1-5696a500c3da",
   "metadata": {},
   "outputs": [
    {
     "name": "stdout",
     "output_type": "stream",
     "text": [
      "[2, 4, 6, 8, 10]\n"
     ]
    }
   ],
   "source": [
    "# 짝수만 고르기\n",
    "\n",
    "result = []\n",
    "\n",
    "for i in numbers:\n",
    "    if i % 2 == 0:\n",
    "        result.append(i)\n",
    "        \n",
    "print(result)"
   ]
  },
  {
   "cell_type": "code",
   "execution_count": 74,
   "id": "ebedf909-6f7a-4848-9cb2-c8bb13e5814a",
   "metadata": {},
   "outputs": [
    {
     "name": "stdout",
     "output_type": "stream",
     "text": [
      "[2, 4, 6, 8, 10]\n"
     ]
    }
   ],
   "source": [
    "result = [number for number in numbers if number % 2 == 0]\n",
    "print(result)\n",
    "\n",
    "# for문부터 쭉 읽고 앞으로"
   ]
  },
  {
   "cell_type": "code",
   "execution_count": 114,
   "id": "804847f8-77a0-45f0-b9ea-9755593ca73c",
   "metadata": {},
   "outputs": [],
   "source": [
    "# 연습, 모음 제거하기\n",
    "words = 'my name is hong'\n",
    "\n",
    "# => my nm s hng\n",
    "# a e i o 1 3 5 6 9"
   ]
  },
  {
   "cell_type": "code",
   "execution_count": 113,
   "id": "746ddfea-2c8b-4d07-807e-55e67ddc6cd6",
   "metadata": {},
   "outputs": [
    {
     "data": {
      "text/plain": [
       "'my nm s hng'"
      ]
     },
     "execution_count": 113,
     "metadata": {},
     "output_type": "execute_result"
    }
   ],
   "source": [
    "words.replace('a','').replace('e','').replace('i','').replace('o','')"
   ]
  },
  {
   "cell_type": "code",
   "execution_count": 139,
   "id": "11605d34-9bb3-45bb-978a-455b2610a723",
   "metadata": {},
   "outputs": [
    {
     "name": "stdout",
     "output_type": "stream",
     "text": [
      "['m', 'y', ' ', 'n', 'm', ' ', 's', ' ', 'h', 'n', 'g']\n",
      "my nm s hng\n"
     ]
    }
   ],
   "source": [
    "# 1번, for과 if 활용\n",
    "\n",
    "vowels = ['a', 'e', 'i', 'o', 'u'] #= 'aeiou'\n",
    "result = []\n",
    "for char in words:\n",
    "    if char in vowels:\n",
    "        # 모음인 경우\n",
    "        pass\n",
    "    else:\n",
    "        # 자음인 경우\n",
    "        result.append(char)\n",
    "\n",
    "print(result)\n",
    "print(''.join(result))"
   ]
  },
  {
   "cell_type": "code",
   "execution_count": 134,
   "id": "a32d8d32-f48a-4362-9b36-7fba2f5205ae",
   "metadata": {},
   "outputs": [
    {
     "name": "stdout",
     "output_type": "stream",
     "text": [
      "['m', 'y', ' ', 'n', 'm', ' ', 's', ' ', 'h', 'n', 'g']\n",
      "my nm s hng\n"
     ]
    }
   ],
   "source": [
    "vowels = 'aeiou'\n",
    "result = []\n",
    "for char in words:\n",
    "    if char not in vowels:\n",
    "        result.append(char)\n",
    "print(result)\n",
    "print(''.join(result))"
   ]
  },
  {
   "cell_type": "code",
   "execution_count": 138,
   "id": "075f27ac-f2fd-4fd1-b6bd-704870dd9a62",
   "metadata": {},
   "outputs": [
    {
     "name": "stdout",
     "output_type": "stream",
     "text": [
      "['m', 'y', ' ', 'n', 'm', ' ', 's', ' ', 'h', 'n', 'g']\n",
      "my nm s hng\n"
     ]
    }
   ],
   "source": [
    "# 2번\n",
    "\n",
    "vowels = 'aeiou'\n",
    "result = [char for char in words if char not in vowels]\n",
    "print(result)\n",
    "print(''.join(result))"
   ]
  },
  {
   "cell_type": "code",
   "execution_count": 144,
   "id": "7d4978e3-2172-4677-8095-6a4fc7442954",
   "metadata": {},
   "outputs": [
    {
     "name": "stdout",
     "output_type": "stream",
     "text": [
      "my nm s hng\n"
     ]
    }
   ],
   "source": [
    "# 3번 replace 메소드 활용\n",
    "\n",
    "vowels = 'aeiou'\n",
    "\n",
    "for char in vowels:\n",
    "    words = words.replace(char, '')\n",
    "\n",
    "print(words)"
   ]
  },
  {
   "cell_type": "markdown",
   "id": "3b4d6766-fbdc-4886-83b2-2cfc9c4b6a8f",
   "metadata": {},
   "source": [
    "## dictionary 메소드"
   ]
  },
  {
   "cell_type": "code",
   "execution_count": 149,
   "id": "b5cdb28f-3272-4730-b959-f06617ddfef9",
   "metadata": {},
   "outputs": [],
   "source": [
    "info = {\n",
    "    'name': 'hong',\n",
    "    'location': 'seoul',\n",
    "    'age': 20,\n",
    "    'models': ['iphone', 'mac book', 'watch'], #list 및 dictionary도 value값으로 가질 수 있음\n",
    "    'phone_book': {\n",
    "        'kim': '010-1111-1111',\n",
    "        'lee': '010-2222-2222',\n",
    "    }\n",
    "}"
   ]
  },
  {
   "cell_type": "code",
   "execution_count": 157,
   "id": "05cce929-89de-469a-ad32-6d457d87b446",
   "metadata": {},
   "outputs": [
    {
     "name": "stdout",
     "output_type": "stream",
     "text": [
      "hong\n",
      "20\n",
      "iphone\n",
      "010-1111-1111\n"
     ]
    }
   ],
   "source": [
    "print(info['name'])\n",
    "print(info['age'])\n",
    "print(info['models'][0])\n",
    "print(info['phone_book']['kim'])"
   ]
  },
  {
   "cell_type": "code",
   "execution_count": 160,
   "id": "1e7397c5-cb44-4804-b7d8-00521a5d12fb",
   "metadata": {},
   "outputs": [
    {
     "name": "stdout",
     "output_type": "stream",
     "text": [
      "park\n",
      "oh\n"
     ]
    }
   ],
   "source": [
    "info['name'] = 'park'\n",
    "print(info['name'])\n",
    "\n",
    "info.update(name='oh')\n",
    "print(info['name'])"
   ]
  },
  {
   "cell_type": "code",
   "execution_count": 161,
   "id": "91893960-d76a-453c-ae44-842d69c6dde7",
   "metadata": {},
   "outputs": [
    {
     "name": "stdout",
     "output_type": "stream",
     "text": [
      "{'name': 'oh', 'location': 'seoul', 'models': ['iphone', 'mac book', 'watch'], 'phone_book': {'kim': '010-1111-1111', 'lee': '010-2222-2222'}} 20\n"
     ]
    }
   ],
   "source": [
    "age = info.pop('age')\n",
    "print(info, age)"
   ]
  },
  {
   "cell_type": "code",
   "execution_count": 165,
   "id": "e1c44337-0404-47f5-8f80-010c70ab6a34",
   "metadata": {},
   "outputs": [
    {
     "name": "stdout",
     "output_type": "stream",
     "text": [
      "oh\n",
      "oh\n"
     ]
    }
   ],
   "source": [
    "print(info.get('name'))\n",
    "print(info['name'])"
   ]
  },
  {
   "cell_type": "code",
   "execution_count": 166,
   "id": "d5108b23-0931-4674-9f45-b8e369507409",
   "metadata": {},
   "outputs": [
    {
     "name": "stdout",
     "output_type": "stream",
     "text": [
      "None\n"
     ]
    }
   ],
   "source": [
    "print(info.get('birth'))"
   ]
  },
  {
   "cell_type": "code",
   "execution_count": 167,
   "id": "03d5c399-d28f-40da-9dde-775e9e8bd080",
   "metadata": {},
   "outputs": [
    {
     "ename": "KeyError",
     "evalue": "'birth'",
     "output_type": "error",
     "traceback": [
      "\u001b[1;31m---------------------------------------------------------------------------\u001b[0m",
      "\u001b[1;31mKeyError\u001b[0m                                  Traceback (most recent call last)",
      "Cell \u001b[1;32mIn[167], line 1\u001b[0m\n\u001b[1;32m----> 1\u001b[0m \u001b[38;5;28mprint\u001b[39m(\u001b[43minfo\u001b[49m\u001b[43m[\u001b[49m\u001b[38;5;124;43m'\u001b[39;49m\u001b[38;5;124;43mbirth\u001b[39;49m\u001b[38;5;124;43m'\u001b[39;49m\u001b[43m]\u001b[49m)\n",
      "\u001b[1;31mKeyError\u001b[0m: 'birth'"
     ]
    }
   ],
   "source": [
    "print(info['birth'])"
   ]
  },
  {
   "cell_type": "code",
   "execution_count": 168,
   "id": "59e2bacb-07f7-4859-bcf0-5ea3f20d92e7",
   "metadata": {},
   "outputs": [],
   "source": [
    "# 연습문제\n",
    "blood_type = ['A', 'B', 'B', 'O', 'AB', 'A']\n",
    "\n",
    "# => blood_dict = {'A':2, 'B':2, 'AB':1, 'O':1}"
   ]
  },
  {
   "cell_type": "code",
   "execution_count": 187,
   "id": "66f72b08-7b46-4259-9866-26eebea3e4ef",
   "metadata": {},
   "outputs": [
    {
     "name": "stdout",
     "output_type": "stream",
     "text": [
      "{'A': 2, 'B': 2, 'O': 1, 'AB': 1}\n"
     ]
    }
   ],
   "source": [
    "result = {\n",
    "    'A':0,\n",
    "    'B':0,\n",
    "    'O':0,\n",
    "    'AB':0\n",
    "}\n",
    "\n",
    "for blood in blood_type:\n",
    "    result[blood] += 1\n",
    "\n",
    "print(result)"
   ]
  },
  {
   "cell_type": "code",
   "execution_count": 234,
   "id": "8e8cda4c-5c8e-43f5-a374-698e22998f83",
   "metadata": {},
   "outputs": [],
   "source": [
    "locations = ['서울', '대전', '서울', '부산', '강릉']"
   ]
  },
  {
   "cell_type": "code",
   "execution_count": 237,
   "id": "02aa0df9-d13d-4d38-a8f7-406c5a2349f5",
   "metadata": {},
   "outputs": [
    {
     "name": "stdout",
     "output_type": "stream",
     "text": [
      "{'서울': 2, '대전': 1, '부산': 1, '강릉': 1}\n"
     ]
    }
   ],
   "source": [
    "result = {}\n",
    "\n",
    "for location in locations:\n",
    "    # result의 key에 location이 있으면\n",
    "    if result.get(location):\n",
    "        result[location] += 1\n",
    "    # result의 key에 location이 없으면\n",
    "    else:\n",
    "        result[location] = 1\n",
    "\n",
    "print(result)"
   ]
  },
  {
   "cell_type": "code",
   "execution_count": 239,
   "id": "a2f2f86a-b6a5-4f53-9619-d897b22ad3be",
   "metadata": {},
   "outputs": [
    {
     "name": "stdout",
     "output_type": "stream",
     "text": [
      "{'서울': 2, '대전': 1, '부산': 1, '강릉': 1}\n"
     ]
    }
   ],
   "source": [
    "result = {}\n",
    "for location in locations:\n",
    "    result.update({location: locations.count(location)})\n",
    "print(result)"
   ]
  },
  {
   "cell_type": "markdown",
   "id": "d54ab570-21f2-4889-b032-76d333ab01cf",
   "metadata": {},
   "source": [
    "## dict comprehension"
   ]
  },
  {
   "cell_type": "code",
   "execution_count": 241,
   "id": "2cb0f23d-e06b-4e0d-b25b-2357490cebbf",
   "metadata": {},
   "outputs": [
    {
     "name": "stdout",
     "output_type": "stream",
     "text": [
      "{1: 1, 2: 8, 3: 27, 4: 64, 5: 125, 6: 216, 7: 343, 8: 512, 9: 729, 10: 1000}\n"
     ]
    }
   ],
   "source": [
    "# {1: 1, 2: 8, 3: 27, ... 10: 1000}\n",
    "\n",
    "result = {}\n",
    "numbers = list(range(1, 11))\n",
    "\n",
    "for number in numbers:\n",
    "    result[number] = number ** 3\n",
    "\n",
    "print(result)"
   ]
  },
  {
   "cell_type": "code",
   "execution_count": 242,
   "id": "aff0bd53-44ab-4d9f-be12-72d427e37f2c",
   "metadata": {},
   "outputs": [
    {
     "name": "stdout",
     "output_type": "stream",
     "text": [
      "{1: 1, 2: 8, 3: 27, 4: 64, 5: 125, 6: 216, 7: 343, 8: 512, 9: 729, 10: 1000}\n"
     ]
    }
   ],
   "source": [
    "result = {number: number ** 3 for number in numbers}\n",
    "print(result)"
   ]
  },
  {
   "cell_type": "code",
   "execution_count": 246,
   "id": "817b4e9c-453b-4a3b-8eb8-66f37c395130",
   "metadata": {},
   "outputs": [],
   "source": [
    "dust = {\n",
    "    '서울': 50,\n",
    "    '대전': 100,\n",
    "    '부산': 70,\n",
    "    '광주': 90,\n",
    "}\n",
    "\n",
    "# result = {'대전': 100, '광주': 90}"
   ]
  },
  {
   "cell_type": "code",
   "execution_count": 247,
   "id": "c46969bf-18fa-491a-b88d-ae912f0178c8",
   "metadata": {},
   "outputs": [
    {
     "name": "stdout",
     "output_type": "stream",
     "text": [
      "{'대전': 100, '광주': 90}\n"
     ]
    }
   ],
   "source": [
    "result = {}\n",
    "\n",
    "for key, value in dust.items():\n",
    "    if value > 70:\n",
    "        result[key] = value\n",
    "print(result)"
   ]
  },
  {
   "cell_type": "code",
   "execution_count": 251,
   "id": "9da75a7b-e723-4fda-847d-eca485b8f2cb",
   "metadata": {},
   "outputs": [
    {
     "name": "stdout",
     "output_type": "stream",
     "text": [
      "{'대전': '나쁨', '광주': '나쁨'}\n"
     ]
    }
   ],
   "source": [
    "result = {k: '나쁨' for k, v in dust.items() if v > 70}\n",
    "\n",
    "print(result)"
   ]
  },
  {
   "cell_type": "markdown",
   "id": "f47f12b6-2331-43f7-bd1e-db5e21b9b073",
   "metadata": {},
   "source": [
    "## 세트 메소드"
   ]
  },
  {
   "cell_type": "code",
   "execution_count": 255,
   "id": "27879298-0562-4263-aa32-f7290f423370",
   "metadata": {},
   "outputs": [
    {
     "name": "stdout",
     "output_type": "stream",
     "text": [
      "{'melon', 'banana', 'apple'}\n"
     ]
    }
   ],
   "source": [
    "fruits = {'apple', 'banana', 'melon'}\n",
    "print(fruits)"
   ]
  },
  {
   "cell_type": "code",
   "execution_count": 259,
   "id": "384bd3bc-dbf1-4b36-9f3e-583ecf7ef2b8",
   "metadata": {},
   "outputs": [
    {
     "name": "stdout",
     "output_type": "stream",
     "text": [
      "{'watermelon', 'banana', 'apple', 'melon', 'grape'}\n"
     ]
    }
   ],
   "source": [
    "fruits.add('watermelon') #단일 데이터\n",
    "print(fruits)"
   ]
  },
  {
   "cell_type": "code",
   "execution_count": 293,
   "id": "e9004361-cfbd-4c0b-89aa-e0ee15a197f0",
   "metadata": {},
   "outputs": [
    {
     "name": "stdout",
     "output_type": "stream",
     "text": [
      "{'banana', 'orange', 'melon', 'grape'}\n"
     ]
    }
   ],
   "source": [
    "fruits.update({'grape', 'orange'}) #복수 데이터, list의 extends와 비슷한 역할\n",
    "print(fruits)"
   ]
  },
  {
   "cell_type": "code",
   "execution_count": 294,
   "id": "e203eed2-8520-4f13-9aec-3409d6cec403",
   "metadata": {},
   "outputs": [
    {
     "ename": "KeyError",
     "evalue": "'apple'",
     "output_type": "error",
     "traceback": [
      "\u001b[1;31m---------------------------------------------------------------------------\u001b[0m",
      "\u001b[1;31mKeyError\u001b[0m                                  Traceback (most recent call last)",
      "Cell \u001b[1;32mIn[294], line 1\u001b[0m\n\u001b[1;32m----> 1\u001b[0m \u001b[43mfruits\u001b[49m\u001b[38;5;241;43m.\u001b[39;49m\u001b[43mremove\u001b[49m\u001b[43m(\u001b[49m\u001b[38;5;124;43m'\u001b[39;49m\u001b[38;5;124;43mapple\u001b[39;49m\u001b[38;5;124;43m'\u001b[39;49m\u001b[43m)\u001b[49m\n\u001b[0;32m      2\u001b[0m \u001b[38;5;28mprint\u001b[39m(fruits)\n",
      "\u001b[1;31mKeyError\u001b[0m: 'apple'"
     ]
    }
   ],
   "source": [
    "fruits.remove('apple')\n",
    "print(fruits)"
   ]
  },
  {
   "cell_type": "code",
   "execution_count": 266,
   "id": "90784d70-0654-4686-9c7a-bf7e697a1ec2",
   "metadata": {},
   "outputs": [
    {
     "name": "stdout",
     "output_type": "stream",
     "text": [
      "{'banana', 'melon', 'grape'}\n"
     ]
    }
   ],
   "source": [
    "fruits.pop()\n",
    "print(fruits)"
   ]
  },
  {
   "cell_type": "markdown",
   "id": "cb20abf1-53c0-4970-902f-132a2eeac1d3",
   "metadata": {},
   "source": [
    "## map, filter, zip\n",
    "### map\n",
    "- map(function, iterable)"
   ]
  },
  {
   "cell_type": "code",
   "execution_count": 271,
   "id": "17f9918a-4bbe-4e47-bcb1-e75f0ede049c",
   "metadata": {},
   "outputs": [
    {
     "name": "stdout",
     "output_type": "stream",
     "text": [
      "['1', '2', '3', '4', '5']\n"
     ]
    }
   ],
   "source": [
    "numbers = [1, 2, 3, 4, 5]\n",
    "# => ['1', '2', '3', '4', '5']\n",
    "\n",
    "result = []\n",
    "\n",
    "for number in numbers:\n",
    "    result.append(str(number))\n",
    "\n",
    "print(result)"
   ]
  },
  {
   "cell_type": "code",
   "execution_count": 273,
   "id": "db3101f2-470a-4b42-aa08-60ae8a5dafbf",
   "metadata": {},
   "outputs": [
    {
     "name": "stdout",
     "output_type": "stream",
     "text": [
      "<map object at 0x000001ABE6F35E70>\n",
      "['1', '2', '3', '4', '5']\n"
     ]
    }
   ],
   "source": [
    "result = map(str, numbers)\n",
    "print(result)\n",
    "print(list(result))"
   ]
  },
  {
   "cell_type": "code",
   "execution_count": 274,
   "id": "c91544e2-bc08-4ad2-8c4c-9668f66d0bbd",
   "metadata": {},
   "outputs": [
    {
     "name": "stdout",
     "output_type": "stream",
     "text": [
      "[1, 8, 27, 64, 125]\n"
     ]
    }
   ],
   "source": [
    "result = []\n",
    "\n",
    "for number in numbers:\n",
    "    result.append(number ** 3)\n",
    "\n",
    "print(result)"
   ]
  },
  {
   "cell_type": "code",
   "execution_count": 275,
   "id": "932835c7-333b-47bf-8e0d-c9c731df9394",
   "metadata": {},
   "outputs": [],
   "source": [
    "def cube(x):\n",
    "    return x ** 3"
   ]
  },
  {
   "cell_type": "code",
   "execution_count": 277,
   "id": "1c1655d5-eb20-4c97-82ea-1117d5c73330",
   "metadata": {},
   "outputs": [
    {
     "name": "stdout",
     "output_type": "stream",
     "text": [
      "[1, 8, 27, 64, 125]\n"
     ]
    }
   ],
   "source": [
    "result = map(cube, numbers)\n",
    "\n",
    "print(list(result))"
   ]
  },
  {
   "cell_type": "code",
   "execution_count": 286,
   "id": "706720b5-9490-4cb7-a646-a901af8837fb",
   "metadata": {},
   "outputs": [
    {
     "name": "stdout",
     "output_type": "stream",
     "text": [
      "[1, 3, 5, 7, 9]\n"
     ]
    }
   ],
   "source": [
    "test_input = '1 3 5 7 9'\n",
    "print(list(map(int, test_input.split())))"
   ]
  },
  {
   "cell_type": "markdown",
   "id": "3c418fc0-8b26-46c8-8065-ce47a5b697b3",
   "metadata": {},
   "source": [
    "### filter\n",
    "- filter(function, iterable)\n",
    "- function은 true or false값을 남기는 함수\n",
    "- true만 남기고 거름"
   ]
  },
  {
   "cell_type": "code",
   "execution_count": 287,
   "id": "d61dfc33-a6e4-4078-a7f4-c4c2d9e31936",
   "metadata": {},
   "outputs": [],
   "source": [
    "def is_odd(x):\n",
    "    return x % 2"
   ]
  },
  {
   "cell_type": "code",
   "execution_count": 289,
   "id": "2ebe4578-b400-4627-b575-ee683e8b3e64",
   "metadata": {},
   "outputs": [
    {
     "name": "stdout",
     "output_type": "stream",
     "text": [
      "[1, 3, 5]\n"
     ]
    }
   ],
   "source": [
    "numbers = [1, 2, 3, 4, 5]\n",
    "result = []\n",
    "for number in numbers:\n",
    "    if number % 2:\n",
    "        result.append(number)\n",
    "\n",
    "print(result)"
   ]
  },
  {
   "cell_type": "code",
   "execution_count": 290,
   "id": "c3871191-4a81-47bc-9e13-2e5325c6c1ee",
   "metadata": {},
   "outputs": [
    {
     "name": "stdout",
     "output_type": "stream",
     "text": [
      "[1, 3, 5]\n"
     ]
    }
   ],
   "source": [
    "result = filter(is_odd, numbers)\n",
    "print(list(result))"
   ]
  },
  {
   "cell_type": "markdown",
   "id": "2f1ca085-e934-4f87-ae2f-89571418d9ae",
   "metadata": {},
   "source": [
    "## zip"
   ]
  },
  {
   "cell_type": "code",
   "execution_count": 291,
   "id": "1dc17059-0420-42d2-bddb-77149c40f501",
   "metadata": {},
   "outputs": [
    {
     "name": "stdout",
     "output_type": "stream",
     "text": [
      "<zip object at 0x000001ABE6B86340>\n",
      "[(1, 100), (2, 200), (3, 300)]\n"
     ]
    }
   ],
   "source": [
    "a = [1, 2, 3]\n",
    "b = [100, 200, 300, 400, 500]\n",
    "\n",
    "result = zip(a, b)\n",
    "print(result)\n",
    "print(list(result))"
   ]
  },
  {
   "cell_type": "code",
   "execution_count": null,
   "id": "bcf3c9f7-fa10-496d-a16b-9680c58f373e",
   "metadata": {},
   "outputs": [],
   "source": []
  },
  {
   "cell_type": "code",
   "execution_count": null,
   "id": "833e538b-31ca-4ef7-bef1-0900fdd133c7",
   "metadata": {},
   "outputs": [],
   "source": []
  },
  {
   "cell_type": "code",
   "execution_count": null,
   "id": "880b6450-a385-441e-b088-f5ab54498b42",
   "metadata": {},
   "outputs": [],
   "source": []
  }
 ],
 "metadata": {
  "kernelspec": {
   "display_name": "Python 3 (ipykernel)",
   "language": "python",
   "name": "python3"
  },
  "language_info": {
   "codemirror_mode": {
    "name": "ipython",
    "version": 3
   },
   "file_extension": ".py",
   "mimetype": "text/x-python",
   "name": "python",
   "nbconvert_exporter": "python",
   "pygments_lexer": "ipython3",
   "version": "3.12.4"
  }
 },
 "nbformat": 4,
 "nbformat_minor": 5
}
